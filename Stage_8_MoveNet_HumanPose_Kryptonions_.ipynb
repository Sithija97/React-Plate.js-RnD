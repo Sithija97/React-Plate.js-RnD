{
  "nbformat": 4,
  "nbformat_minor": 0,
  "metadata": {
    "accelerator": "GPU",
    "colab": {
      "name": "Stage 8 - MoveNet_HumanPose - Kryptonions .ipynb",
      "provenance": [],
      "collapsed_sections": [
        "toCy3v03Dwx7",
        "10_zkgbZBkIE"
      ],
      "include_colab_link": true
    },
    "kernelspec": {
      "display_name": "Python 3",
      "name": "python3"
    },
    "language_info": {
      "name": "python"
    }
  },
  "cells": [
    {
      "cell_type": "markdown",
      "metadata": {
        "id": "view-in-github",
        "colab_type": "text"
      },
      "source": [
        "<a href=\"https://colab.research.google.com/github/Sithija97/Python-Projects/blob/main/Stage_8_MoveNet_HumanPose_Kryptonions_.ipynb\" target=\"_parent\"><img src=\"https://colab.research.google.com/assets/colab-badge.svg\" alt=\"Open In Colab\"/></a>"
      ]
    },
    {
      "cell_type": "markdown",
      "metadata": {
        "id": "toCy3v03Dwx7"
      },
      "source": [
        "\n",
        "##### Copyright 2021 The TensorFlow Hub Authors.\n",
        "\n",
        "Licensed under the Apache License, Version 2.0 (the \"License\");"
      ]
    },
    {
      "cell_type": "code",
      "metadata": {
        "id": "QKe-ubNcDvgv"
      },
      "source": [
        "# Copyright 2021 The TensorFlow Hub Authors. All Rights Reserved.\n",
        "#\n",
        "# Licensed under the Apache License, Version 2.0 (the \"License\");\n",
        "# you may not use this file except in compliance with the License.\n",
        "# You may obtain a copy of the License at\n",
        "#\n",
        "#     http://www.apache.org/licenses/LICENSE-2.0\n",
        "#\n",
        "# Unless required by applicable law or agreed to in writing, software\n",
        "# distributed under the License is distributed on an \"AS IS\" BASIS,\n",
        "# WITHOUT WARRANTIES OR CONDITIONS OF ANY KIND, either express or implied.\n",
        "# See the License for the specific language governing permissions and\n",
        "# limitations under the License.\n",
        "# =============================================================================="
      ],
      "execution_count": null,
      "outputs": []
    },
    {
      "cell_type": "markdown",
      "metadata": {
        "id": "10_zkgbZBkIE"
      },
      "source": [
        "# Human Pose Estimation with MoveNet"
      ]
    },
    {
      "cell_type": "markdown",
      "metadata": {
        "id": "9u_VGR6_BmbZ"
      },
      "source": [
        "## Visualization libraries & Imports"
      ]
    },
    {
      "cell_type": "code",
      "metadata": {
        "id": "TtcwSIcgbIVN",
        "colab": {
          "base_uri": "https://localhost:8080/"
        },
        "outputId": "71cba06f-1956-4ac8-ead6-a5ef8fe6ffc6"
      },
      "source": [
        "!pip install -q imageio\n",
        "!pip install -q opencv-python\n",
        "!pip install -q git+https://github.com/tensorflow/docs"
      ],
      "execution_count": null,
      "outputs": [
        {
          "output_type": "stream",
          "name": "stdout",
          "text": [
            "  Building wheel for tensorflow-docs (setup.py) ... \u001b[?25l\u001b[?25hdone\n"
          ]
        }
      ]
    },
    {
      "cell_type": "code",
      "metadata": {
        "id": "9BLeJv-pCCld"
      },
      "source": [
        "import tensorflow as tf\n",
        "import tensorflow_hub as hub\n",
        "from tensorflow_docs.vis import embed\n",
        "import numpy as np\n",
        "import cv2\n",
        "import os \n",
        "\n",
        "# Import matplotlib libraries\n",
        "from matplotlib import pyplot as plt\n",
        "from matplotlib.collections import LineCollection\n",
        "import matplotlib.patches as patches\n",
        "\n",
        "# Some modules to display an animation using imageio.\n",
        "import imageio\n",
        "from IPython.display import HTML, display"
      ],
      "execution_count": null,
      "outputs": []
    },
    {
      "cell_type": "code",
      "metadata": {
        "id": "bEJBMeRb3YUy"
      },
      "source": [
        "#@title Helper functions for visualization\n",
        "\n",
        "# Dictionary that maps from joint names to keypoint indices.\n",
        "KEYPOINT_DICT = {\n",
        "    'nose': 0,\n",
        "    'left_eye': 1,\n",
        "    'right_eye': 2,\n",
        "    'left_ear': 3,\n",
        "    'right_ear': 4,\n",
        "    'left_shoulder': 5,\n",
        "    'right_shoulder': 6,\n",
        "    'left_elbow': 7,\n",
        "    'right_elbow': 8,\n",
        "    'left_wrist': 9,\n",
        "    'right_wrist': 10,\n",
        "    'left_hip': 11,\n",
        "    'right_hip': 12,\n",
        "    'left_knee': 13,\n",
        "    'right_knee': 14,\n",
        "    'left_ankle': 15,\n",
        "    'right_ankle': 16\n",
        "}\n",
        "\n",
        "# Maps bones to a matplotlib color name.\n",
        "KEYPOINT_EDGE_INDS_TO_COLOR = {\n",
        "    (0, 1): 'm',\n",
        "    (0, 2): 'c',\n",
        "    (1, 3): 'm',\n",
        "    (2, 4): 'c',\n",
        "    (0, 5): 'm',\n",
        "    (0, 6): 'c',\n",
        "    (5, 7): 'm',\n",
        "    (7, 9): 'm',\n",
        "    (6, 8): 'c',\n",
        "    (8, 10): 'c',\n",
        "    (5, 6): 'y',\n",
        "    (5, 11): 'm',\n",
        "    (6, 12): 'c',\n",
        "    (11, 12): 'y',\n",
        "    (11, 13): 'm',\n",
        "    (13, 15): 'm',\n",
        "    (12, 14): 'c',\n",
        "    (14, 16): 'c'\n",
        "}\n",
        "\n",
        "def _keypoints_and_edges_for_display(keypoints_with_scores,\n",
        "                                     height,\n",
        "                                     width,\n",
        "                                     keypoint_threshold=0.11):\n",
        "  \"\"\"Returns high confidence keypoints and edges for visualization.\n",
        "\n",
        "  Args:\n",
        "    keypoints_with_scores: A numpy array with shape [1, 1, 17, 3] representing\n",
        "      the keypoint coordinates and scores returned from the MoveNet model.\n",
        "    height: height of the image in pixels.\n",
        "    width: width of the image in pixels.\n",
        "    keypoint_threshold: minimum confidence score for a keypoint to be\n",
        "      visualized.\n",
        "\n",
        "  Returns:\n",
        "    A (keypoints_xy, edges_xy, edge_colors) containing:\n",
        "      * the coordinates of all keypoints of all detected entities;\n",
        "      * the coordinates of all skeleton edges of all detected entities;\n",
        "      * the colors in which the edges should be plotted.\n",
        "  \"\"\"\n",
        "  keypoints_all = []\n",
        "  keypoint_edges_all = []\n",
        "  edge_colors = []\n",
        "  num_instances, _, _, _ = keypoints_with_scores.shape\n",
        "  for idx in range(num_instances):\n",
        "    kpts_x = keypoints_with_scores[0, idx, :, 1]\n",
        "    kpts_y = keypoints_with_scores[0, idx, :, 0]\n",
        "    kpts_scores = keypoints_with_scores[0, idx, :, 2]\n",
        "    kpts_absolute_xy = np.stack(\n",
        "        [width * np.array(kpts_x), height * np.array(kpts_y)], axis=-1)\n",
        "    kpts_above_thresh_absolute = kpts_absolute_xy[\n",
        "        kpts_scores > keypoint_threshold, :]\n",
        "    keypoints_all.append(kpts_above_thresh_absolute)\n",
        "\n",
        "    for edge_pair, color in KEYPOINT_EDGE_INDS_TO_COLOR.items():\n",
        "      if (kpts_scores[edge_pair[0]] > keypoint_threshold and\n",
        "          kpts_scores[edge_pair[1]] > keypoint_threshold):\n",
        "        x_start = kpts_absolute_xy[edge_pair[0], 0]\n",
        "        y_start = kpts_absolute_xy[edge_pair[0], 1]\n",
        "        x_end = kpts_absolute_xy[edge_pair[1], 0]\n",
        "        y_end = kpts_absolute_xy[edge_pair[1], 1]\n",
        "        line_seg = np.array([[x_start, y_start], [x_end, y_end]])\n",
        "        keypoint_edges_all.append(line_seg)\n",
        "        edge_colors.append(color)\n",
        "  if keypoints_all:\n",
        "    keypoints_xy = np.concatenate(keypoints_all, axis=0)\n",
        "  else:\n",
        "    keypoints_xy = np.zeros((0, 17, 2))\n",
        "\n",
        "  if keypoint_edges_all:\n",
        "    edges_xy = np.stack(keypoint_edges_all, axis=0)\n",
        "  else:\n",
        "    edges_xy = np.zeros((0, 2, 2))\n",
        "  return keypoints_xy, edges_xy, edge_colors\n",
        "\n",
        "\n",
        "def draw_prediction_on_image(\n",
        "    image, keypoints_with_scores, crop_region=None, close_figure=False,\n",
        "    output_image_height=None):\n",
        "  \"\"\"Draws the keypoint predictions on image.\n",
        "\n",
        "  Args:\n",
        "    image: A numpy array with shape [height, width, channel] representing the\n",
        "      pixel values of the input image.\n",
        "    keypoints_with_scores: A numpy array with shape [1, 1, 17, 3] representing\n",
        "      the keypoint coordinates and scores returned from the MoveNet model.\n",
        "    crop_region: A dictionary that defines the coordinates of the bounding box\n",
        "      of the crop region in normalized coordinates (see the init_crop_region\n",
        "      function below for more detail). If provided, this function will also\n",
        "      draw the bounding box on the image.\n",
        "    output_image_height: An integer indicating the height of the output image.\n",
        "      Note that the image aspect ratio will be the same as the input image.\n",
        "\n",
        "  Returns:\n",
        "    A numpy array with shape [out_height, out_width, channel] representing the\n",
        "    image overlaid with keypoint predictions.\n",
        "  \"\"\"\n",
        "  height, width, channel = image.shape\n",
        "  aspect_ratio = float(width) / height\n",
        "  fig, ax = plt.subplots(figsize=(12 * aspect_ratio, 12))\n",
        "  # To remove the huge white borders\n",
        "  fig.tight_layout(pad=0)\n",
        "  ax.margins(0)\n",
        "  ax.set_yticklabels([])\n",
        "  ax.set_xticklabels([])\n",
        "  plt.axis('off')\n",
        "\n",
        "  im = ax.imshow(image)\n",
        "  line_segments = LineCollection([], linewidths=(4), linestyle='solid')\n",
        "  ax.add_collection(line_segments)\n",
        "  # Turn off tick labels\n",
        "  scat = ax.scatter([], [], s=60, color='#FF1493', zorder=3)\n",
        "\n",
        "  (keypoint_locs, keypoint_edges,\n",
        "   edge_colors) = _keypoints_and_edges_for_display(\n",
        "       keypoints_with_scores, height, width)\n",
        "\n",
        "  line_segments.set_segments(keypoint_edges)\n",
        "  line_segments.set_color(edge_colors)\n",
        "  if keypoint_edges.shape[0]:\n",
        "    line_segments.set_segments(keypoint_edges)\n",
        "    line_segments.set_color(edge_colors)\n",
        "  if keypoint_locs.shape[0]:\n",
        "    scat.set_offsets(keypoint_locs)\n",
        "\n",
        "  if crop_region is not None:\n",
        "    xmin = max(crop_region['x_min'] * width, 0.0)\n",
        "    ymin = max(crop_region['y_min'] * height, 0.0)\n",
        "    rec_width = min(crop_region['x_max'], 0.99) * width - xmin\n",
        "    rec_height = min(crop_region['y_max'], 0.99) * height - ymin\n",
        "    rect = patches.Rectangle(\n",
        "        (xmin,ymin),rec_width,rec_height,\n",
        "        linewidth=1,edgecolor='b',facecolor='none')\n",
        "    ax.add_patch(rect)\n",
        "\n",
        "  fig.canvas.draw()\n",
        "  image_from_plot = np.frombuffer(fig.canvas.tostring_rgb(), dtype=np.uint8)\n",
        "  image_from_plot = image_from_plot.reshape(\n",
        "      fig.canvas.get_width_height()[::-1] + (3,))\n",
        "  plt.close(fig)\n",
        "  if output_image_height is not None:\n",
        "    output_image_width = int(output_image_height / height * width)\n",
        "    image_from_plot = cv2.resize(\n",
        "        image_from_plot, dsize=(output_image_width, output_image_height),\n",
        "         interpolation=cv2.INTER_CUBIC)\n",
        "  return image_from_plot\n",
        "\n",
        "def to_gif(images, fps):\n",
        "  \"\"\"Converts image sequence (4D numpy array) to gif.\"\"\"\n",
        "  imageio.mimsave('./animation.gif', images, fps=fps)\n",
        "  return embed.embed_file('./animation.gif')\n",
        "\n",
        "def progress(value, max=100):\n",
        "  return HTML(\"\"\"\n",
        "      <progress\n",
        "          value='{value}'\n",
        "          max='{max}',\n",
        "          style='width: 100%'\n",
        "      >\n",
        "          {value}\n",
        "      </progress>\n",
        "  \"\"\".format(value=value, max=max))"
      ],
      "execution_count": null,
      "outputs": []
    },
    {
      "cell_type": "markdown",
      "metadata": {
        "id": "UvrN0iQiOxhR"
      },
      "source": [
        "## Load Model from TF.hub"
      ]
    },
    {
      "cell_type": "code",
      "metadata": {
        "id": "CDrOrmeGOzdY"
      },
      "source": [
        "model_name = \"movenet_thunder\" #@param [\"movenet_thunder\", \"movenet_lightning\"]\n",
        "\n",
        "if model_name == \"movenet_lightning\":\n",
        "  module = hub.load(\"https://tfhub.dev/google/movenet/singlepose/lightning/3\")\n",
        "  input_size = 192\n",
        "elif model_name == \"movenet_thunder\":\n",
        "  module = hub.load(\"https://tfhub.dev/google/movenet/singlepose/thunder/3\")\n",
        "  input_size = 256\n",
        "else:\n",
        "  raise ValueError(\"Unsupported model name: %s\" % model_name)\n",
        "\n",
        "movenet = module.signatures['serving_default']"
      ],
      "execution_count": null,
      "outputs": []
    },
    {
      "cell_type": "markdown",
      "metadata": {
        "id": "-h1qHYaqD9ap"
      },
      "source": [
        "## Single Image Example"
      ]
    },
    {
      "cell_type": "code",
      "metadata": {
        "id": "SX4TxtQ95PhX"
      },
      "source": [
        "# bat angle calculation method (with two X,Y cordinates - right hand wrist, left hand wrist)\n",
        "\n",
        "import math\n",
        "\n",
        "def calculate_bat_angle_right_hand_batsman(flattened):\n",
        "\n",
        "  left_wrist_X = flattened[9][0]\n",
        "  left_wrist_Y = flattened[9][1]\n",
        "  right_wrist_X = flattened[10][0]\n",
        "  right_wrist_y = flattened[10][1]\n",
        "\n",
        "  delta_Y = left_wrist_Y - right_wrist_y\n",
        "  delta_X = left_wrist_X - right_wrist_X\n",
        "\n",
        "  print(\"\\nbat angle\")\n",
        "  print(abs(math.degrees(math.atan2(delta_X,delta_Y))))"
      ],
      "execution_count": null,
      "outputs": []
    },
    {
      "cell_type": "code",
      "metadata": {
        "id": "43JquxXH5SAv"
      },
      "source": [
        "# common method to calculate angle with three coordinates\n",
        "import math\n",
        " \n",
        "def getAngle(a, b, c):\n",
        "    ang = math.degrees(math.atan2(c[1]-b[1], c[0]-b[0]) - math.atan2(a[1]-b[1], a[0]-b[0]))\n",
        "    return ang + 360 if ang < 0 else ang"
      ],
      "execution_count": null,
      "outputs": []
    },
    {
      "cell_type": "code",
      "metadata": {
        "id": "AjqPIYyT5Vp0"
      },
      "source": [
        "# method to calculate head possition\n",
        "\n",
        "def calculate_head_possition(flattened):\n",
        "\n",
        "  lEye = (format(flattened[1][0], \".2f\"))\n",
        "  rEye = round(flattened[2][0], 2)\n",
        "  lEar = round(flattened[3][0], 2)\n",
        "  rEar = round(flattened[4][0], 2)\n",
        "\n",
        "  print(\"\\nleft eye\",(lEye)[:3])\n",
        "  print(\"right eye\", rEye)\n",
        "  print(\"left ear\", lEar)\n",
        "  print(\"right ear\", rEar)"
      ],
      "execution_count": null,
      "outputs": []
    },
    {
      "cell_type": "code",
      "metadata": {
        "id": "UZN4CSPp5Wnb"
      },
      "source": [
        "# calculate pre defined body angles\n",
        "\n",
        "def calculate_body_angles(flattened):\n",
        "  \n",
        "    # shoulder/elbow/wrist\n",
        "    print(\"\\n top hand\")\n",
        "    print(getAngle((flattened[5][0], flattened[5][1]), (flattened[7][0], flattened[7][1]), (flattened[9][0], flattened[9][1])))\n",
        "\n",
        "    # shoulder/elbow/wrist\n",
        "    print(\"\\n bottom hand\")\n",
        "    print(getAngle((flattened[10][0], flattened[10][1]), (flattened[8][0], flattened[8][1]), (flattened[6][0], flattened[6][1])))\n",
        "\n",
        "    # hip/knee/ancle\n",
        "    print(\"\\n front leg\")\n",
        "    print(getAngle((flattened[11][0], flattened[11][1]), (flattened[13][0], flattened[13][1]), (flattened[15][0], flattened[15][1])))\n",
        "\n",
        "    # shoulder/hip/knee (back foot)\n",
        "    print(\"\\n back\")\n",
        "    print(getAngle((flattened[6][0], flattened[6][1]), (flattened[12][0], flattened[12][1]), (flattened[14][0], flattened[14][1])))\n",
        "\n",
        "    # hip/knee/ancle\n",
        "    print(\"\\n back leg\")\n",
        "    print(getAngle((flattened[12][0], flattened[12][1]), (flattened[14][0], flattened[14][1]), (flattened[16][0], flattened[16][1])))\n"
      ],
      "execution_count": null,
      "outputs": []
    },
    {
      "cell_type": "code",
      "metadata": {
        "id": "OucqfBka5cwh"
      },
      "source": [
        "# kohli = https://www.jamaicaobserver.com/apps/pbcsi.dll/storyimage/JO/20181217/ARTICLE/312179944/AR/0/AR-312179944.jpg\n",
        "# root = https://static.independent.co.uk/2021/01/24/14/newFile-3.jpg?width=982&height=726&auto=webp&quality=75\n",
        "# trot = https://upload.wikimedia.org/wikipedia/commons/thumb/6/6e/Jonathan_Trott.jpg/180px-Jonathan_Trott.jpg\n",
        "# kohli1 = https://www.pavilionpaar.com/wp-content/uploads/2020/12/EKDA_qVU4AAbnnR.jpg\n",
        "# wrong = https://i.ytimg.com/vi/GAOw_Hf7b1g/hqdefault.jpg\n",
        "# bell = https://cdn.wisden.com/wp-content/uploads/2020/05/GettyImages-117023134-scaled-e1590858242407.jpg\n",
        "# sanga = https://i.pinimg.com/originals/95/33/00/953300570410094ba908909ce4cff145.jpg\n",
        "# amla = https://i.pinimg.com/564x/96/bb/61/96bb61ecf376eb6d8d57f3e1785a03d0.jpg\n",
        "# bopara = https://thereversesweep.typepad.com/.a/6a0120a735b61b970b016765948812970b-pi\n",
        "\n",
        "def main():\n",
        "\n",
        "  # include new imports\n",
        "  from google.colab import drive\n",
        "  # drive.mount('/content/drive')\n",
        "\n",
        "  import numpy as np\n",
        "  import pandas as pd \n",
        "\n",
        "  shotlist = ['https://staticg.sportskeeda.com/editor/2018/11/8ecb1-15412790879326-800.jpg']\n",
        "\n",
        "  for url in shotlist:\n",
        "    cmd='curl -o input_image.jpeg {} --silent'.format(url)\n",
        "    os.system(cmd)\n",
        "\n",
        "    # Load the input image.\n",
        "    image_path = 'input_image.jpeg'\n",
        "    image = tf.io.read_file(image_path)\n",
        "    image = tf.image.decode_jpeg(image)\n",
        "\n",
        "    # Resize and pad the image to keep the aspect ratio and fit the expected size.\n",
        "    input_image = tf.expand_dims(image, axis=0)\n",
        "    input_image = tf.cast(tf.image.resize_with_pad(\n",
        "      input_image, input_size, input_size), dtype=tf.int32)\n",
        "\n",
        "    # Run model inference.\n",
        "    outputs = movenet(input_image)\n",
        "    # Output is a [1, 1, 17, 3] tensor.\n",
        "    keypoint_with_scores = outputs['output_0']\n",
        "\n",
        "    # print(keypoint_with_scores)\n",
        "    print('\\n')\n",
        "\n",
        "    # Added - Extracting relevent points from tensor\n",
        "    print('=============== Extracting relevent points from tensor ===============')\n",
        "\n",
        "    # Visualize the predictions with image.\n",
        "    display_image = tf.expand_dims(image, axis=0)\n",
        "    display_image = tf.cast(tf.image.resize_with_pad(\n",
        "        display_image, 1280, 1280), dtype=tf.int32)\n",
        "    output_overlay = draw_prediction_on_image(\n",
        "        np.squeeze(display_image.numpy(), axis=0), keypoint_with_scores)\n",
        "\n",
        "    plt.figure(figsize=(10, 10))\n",
        "    plt.imshow(output_overlay)\n",
        "    _ = plt.axis('off')\n",
        "\n",
        "    # added from the second function\n",
        "    tensor = keypoint_with_scores\n",
        "\n",
        "    # converting the tensor into a numpy\n",
        "    array = tensor.numpy()\n",
        "\n",
        "    # convert the numpy array into a list\n",
        "    array_list = array.tolist()\n",
        "\n",
        "    # removing extra [] from list \n",
        "    flattened = []\n",
        "    for sublist in array_list: \n",
        "      for val in sublist: \n",
        "        for n in val: \n",
        "          flattened.append(n) \n",
        "\n",
        "    # convert list to a pandas dataframe\n",
        "    df = pd.DataFrame(flattened, columns = ['X-Coord','Y-Coord','Accuracy'])\n",
        "\n",
        "    print(df)\n",
        "    print(type(df))\n",
        "\n",
        "    # calling the bat angle calculation method\n",
        "    calculate_bat_angle_right_hand_batsman(flattened)\n",
        "\n",
        "    # calling the body angles calculation method\n",
        "    calculate_body_angles(flattened)\n",
        "\n",
        "    # calling the head possition calculation method\n",
        "    calculate_head_possition(flattened)\n",
        "\n",
        "    # saving the data into a csv\n",
        "    x = 1\n",
        "    df.to_csv('book_'+str(x)+'.csv')\n",
        "    x=x+1    \n",
        "    # df.to_csv('Book.csv')\n",
        "    # df.to_csv('D:/Book2.csv')"
      ],
      "execution_count": null,
      "outputs": []
    },
    {
      "cell_type": "markdown",
      "metadata": {
        "id": "0coYAWmT5gqO"
      },
      "source": [
        "Starting point - main function"
      ]
    },
    {
      "cell_type": "code",
      "metadata": {
        "id": "tvS9T0GF5kO_"
      },
      "source": [
        "main()"
      ],
      "execution_count": null,
      "outputs": []
    }
  ]
}