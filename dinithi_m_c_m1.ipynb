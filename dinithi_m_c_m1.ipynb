{
  "nbformat": 4,
  "nbformat_minor": 0,
  "metadata": {
    "colab": {
      "name": "dinithi - m.c -m1.ipynb",
      "provenance": [],
      "collapsed_sections": [],
      "authorship_tag": "ABX9TyNX1wCIAP9H0gcqh58/GOJ6",
      "include_colab_link": true
    },
    "kernelspec": {
      "name": "python3",
      "display_name": "Python 3"
    },
    "language_info": {
      "name": "python"
    }
  },
  "cells": [
    {
      "cell_type": "markdown",
      "metadata": {
        "id": "view-in-github",
        "colab_type": "text"
      },
      "source": [
        "<a href=\"https://colab.research.google.com/github/Sithija97/Python-Projects/blob/main/dinithi_m_c_m1.ipynb\" target=\"_parent\"><img src=\"https://colab.research.google.com/assets/colab-badge.svg\" alt=\"Open In Colab\"/></a>"
      ]
    },
    {
      "cell_type": "code",
      "metadata": {
        "id": "d0HkNIc0sUp4"
      },
      "source": [
        "import pandas as pd\n",
        "from matplotlib import pyplot as plt\n",
        "%matplotlib inline"
      ],
      "execution_count": 5,
      "outputs": []
    },
    {
      "cell_type": "code",
      "metadata": {
        "colab": {
          "resources": {
            "http://localhost:8080/nbextensions/google.colab/files.js": {
              "data": "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",
              "ok": true,
              "headers": [
                [
                  "content-type",
                  "application/javascript"
                ]
              ],
              "status": 200,
              "status_text": "OK"
            }
          },
          "base_uri": "https://localhost:8080/",
          "height": 74
        },
        "id": "lYOVj9TfsX1H",
        "outputId": "2d0b1d79-2936-4c4e-f4a1-c21cd6401125"
      },
      "source": [
        "from google.colab import files\n",
        "\n",
        "uploaded = files.upload()"
      ],
      "execution_count": 2,
      "outputs": [
        {
          "output_type": "display_data",
          "data": {
            "text/html": [
              "\n",
              "     <input type=\"file\" id=\"files-09338004-db5e-4b09-97eb-f467c6268e06\" name=\"files[]\" multiple disabled\n",
              "        style=\"border:none\" />\n",
              "     <output id=\"result-09338004-db5e-4b09-97eb-f467c6268e06\">\n",
              "      Upload widget is only available when the cell has been executed in the\n",
              "      current browser session. Please rerun this cell to enable.\n",
              "      </output>\n",
              "      <script src=\"/nbextensions/google.colab/files.js\"></script> "
            ],
            "text/plain": [
              "<IPython.core.display.HTML object>"
            ]
          },
          "metadata": {}
        },
        {
          "output_type": "stream",
          "name": "stdout",
          "text": [
            "Saving fyp csv - Sheet1.csv to fyp csv - Sheet1.csv\n"
          ]
        }
      ]
    },
    {
      "cell_type": "code",
      "metadata": {
        "colab": {
          "base_uri": "https://localhost:8080/"
        },
        "id": "yDyZza-tsZ5b",
        "outputId": "deb96daf-3b5d-4e47-f8d0-51f0f45928ff"
      },
      "source": [
        "# reading the csv file\n",
        "df = pd.read_csv(\"fyp csv - Sheet1.csv\",index_col=False)\n",
        "df.head()\n",
        "df.shape"
      ],
      "execution_count": 3,
      "outputs": [
        {
          "output_type": "execute_result",
          "data": {
            "text/plain": [
              "(28, 38)"
            ]
          },
          "metadata": {},
          "execution_count": 3
        }
      ]
    },
    {
      "cell_type": "code",
      "metadata": {
        "colab": {
          "base_uri": "https://localhost:8080/",
          "height": 243
        },
        "id": "B-hRss0bsbnS",
        "outputId": "e396cd80-c077-4c15-e076-f69eeb9e25d0"
      },
      "source": [
        "# average numbers for all columns\n",
        "df.groupby('shot name').mean()"
      ],
      "execution_count": 7,
      "outputs": [
        {
          "output_type": "execute_result",
          "data": {
            "text/html": [
              "<div>\n",
              "<style scoped>\n",
              "    .dataframe tbody tr th:only-of-type {\n",
              "        vertical-align: middle;\n",
              "    }\n",
              "\n",
              "    .dataframe tbody tr th {\n",
              "        vertical-align: top;\n",
              "    }\n",
              "\n",
              "    .dataframe thead th {\n",
              "        text-align: right;\n",
              "    }\n",
              "</style>\n",
              "<table border=\"1\" class=\"dataframe\">\n",
              "  <thead>\n",
              "    <tr style=\"text-align: right;\">\n",
              "      <th></th>\n",
              "      <th>fv.st.hp</th>\n",
              "      <th>fv.bl.hp</th>\n",
              "      <th>fv.im.hp</th>\n",
              "      <th>fv.ft.hp</th>\n",
              "      <th>sv.st.hp</th>\n",
              "      <th>st.stage</th>\n",
              "      <th>sv.st.ba</th>\n",
              "      <th>sv.st.tha</th>\n",
              "      <th>sv.st.bha</th>\n",
              "      <th>sv.st.ff.ka</th>\n",
              "      <th>sv.st.bf.ka</th>\n",
              "      <th>sv.st.hip.a</th>\n",
              "      <th>sv.bl.hp</th>\n",
              "      <th>bl.stage</th>\n",
              "      <th>sv.bl.ba</th>\n",
              "      <th>sv.bl.tha</th>\n",
              "      <th>sv.bl.bha</th>\n",
              "      <th>sv.bl.ff.ka</th>\n",
              "      <th>sv.bl.bf.ka</th>\n",
              "      <th>sv.bl.hip.a</th>\n",
              "      <th>sv.im.hp</th>\n",
              "      <th>im.stage</th>\n",
              "      <th>sv.im.ba</th>\n",
              "      <th>sv.im.tha</th>\n",
              "      <th>sv.im.bha</th>\n",
              "      <th>sv.im.ff.ka</th>\n",
              "      <th>sv.im.bf.ka</th>\n",
              "      <th>sv.im.hip.a</th>\n",
              "      <th>sv.ft.hp</th>\n",
              "      <th>ft.stage</th>\n",
              "      <th>sv.ft.ba</th>\n",
              "      <th>sv.ft.tha</th>\n",
              "      <th>sv.ft.bha</th>\n",
              "      <th>sv.ft.ff.ka</th>\n",
              "      <th>sv.ft.bf.ka</th>\n",
              "      <th>sv.ft.hip.a</th>\n",
              "      <th>accuracy</th>\n",
              "    </tr>\n",
              "    <tr>\n",
              "      <th>shot name</th>\n",
              "      <th></th>\n",
              "      <th></th>\n",
              "      <th></th>\n",
              "      <th></th>\n",
              "      <th></th>\n",
              "      <th></th>\n",
              "      <th></th>\n",
              "      <th></th>\n",
              "      <th></th>\n",
              "      <th></th>\n",
              "      <th></th>\n",
              "      <th></th>\n",
              "      <th></th>\n",
              "      <th></th>\n",
              "      <th></th>\n",
              "      <th></th>\n",
              "      <th></th>\n",
              "      <th></th>\n",
              "      <th></th>\n",
              "      <th></th>\n",
              "      <th></th>\n",
              "      <th></th>\n",
              "      <th></th>\n",
              "      <th></th>\n",
              "      <th></th>\n",
              "      <th></th>\n",
              "      <th></th>\n",
              "      <th></th>\n",
              "      <th></th>\n",
              "      <th></th>\n",
              "      <th></th>\n",
              "      <th></th>\n",
              "      <th></th>\n",
              "      <th></th>\n",
              "      <th></th>\n",
              "      <th></th>\n",
              "      <th></th>\n",
              "    </tr>\n",
              "  </thead>\n",
              "  <tbody>\n",
              "    <tr>\n",
              "      <th>1</th>\n",
              "      <td>1.0</td>\n",
              "      <td>1.0</td>\n",
              "      <td>1.0</td>\n",
              "      <td>1.0</td>\n",
              "      <td>1.0</td>\n",
              "      <td>1.0</td>\n",
              "      <td>13.568361</td>\n",
              "      <td>173.945171</td>\n",
              "      <td>149.798218</td>\n",
              "      <td>166.270325</td>\n",
              "      <td>182.745072</td>\n",
              "      <td>176.468191</td>\n",
              "      <td>1.0</td>\n",
              "      <td>2.0</td>\n",
              "      <td>35.967965</td>\n",
              "      <td>121.979808</td>\n",
              "      <td>88.685215</td>\n",
              "      <td>166.439871</td>\n",
              "      <td>187.430146</td>\n",
              "      <td>179.454029</td>\n",
              "      <td>1.0</td>\n",
              "      <td>3.0</td>\n",
              "      <td>54.683884</td>\n",
              "      <td>126.117565</td>\n",
              "      <td>69.906666</td>\n",
              "      <td>122.574343</td>\n",
              "      <td>183.173733</td>\n",
              "      <td>183.807792</td>\n",
              "      <td>1.0</td>\n",
              "      <td>4.0</td>\n",
              "      <td>72.964792</td>\n",
              "      <td>152.517781</td>\n",
              "      <td>102.473504</td>\n",
              "      <td>120.268545</td>\n",
              "      <td>176.703864</td>\n",
              "      <td>154.729480</td>\n",
              "      <td>0.40</td>\n",
              "    </tr>\n",
              "    <tr>\n",
              "      <th>2</th>\n",
              "      <td>1.0</td>\n",
              "      <td>1.0</td>\n",
              "      <td>1.0</td>\n",
              "      <td>1.0</td>\n",
              "      <td>1.0</td>\n",
              "      <td>1.0</td>\n",
              "      <td>13.821194</td>\n",
              "      <td>172.031598</td>\n",
              "      <td>178.227168</td>\n",
              "      <td>163.813286</td>\n",
              "      <td>190.013202</td>\n",
              "      <td>172.482656</td>\n",
              "      <td>1.0</td>\n",
              "      <td>2.0</td>\n",
              "      <td>31.715391</td>\n",
              "      <td>146.005649</td>\n",
              "      <td>100.062885</td>\n",
              "      <td>167.957569</td>\n",
              "      <td>188.845554</td>\n",
              "      <td>172.377960</td>\n",
              "      <td>1.0</td>\n",
              "      <td>3.0</td>\n",
              "      <td>49.618466</td>\n",
              "      <td>138.864459</td>\n",
              "      <td>81.825174</td>\n",
              "      <td>129.290372</td>\n",
              "      <td>187.525870</td>\n",
              "      <td>186.628026</td>\n",
              "      <td>1.0</td>\n",
              "      <td>4.0</td>\n",
              "      <td>152.299409</td>\n",
              "      <td>263.530564</td>\n",
              "      <td>104.027403</td>\n",
              "      <td>121.270498</td>\n",
              "      <td>184.981035</td>\n",
              "      <td>181.590911</td>\n",
              "      <td>0.00</td>\n",
              "    </tr>\n",
              "    <tr>\n",
              "      <th>3</th>\n",
              "      <td>1.0</td>\n",
              "      <td>1.0</td>\n",
              "      <td>1.0</td>\n",
              "      <td>1.0</td>\n",
              "      <td>1.0</td>\n",
              "      <td>1.0</td>\n",
              "      <td>13.257182</td>\n",
              "      <td>173.243768</td>\n",
              "      <td>159.443929</td>\n",
              "      <td>162.472689</td>\n",
              "      <td>175.404534</td>\n",
              "      <td>173.558051</td>\n",
              "      <td>1.0</td>\n",
              "      <td>2.0</td>\n",
              "      <td>21.873920</td>\n",
              "      <td>116.949476</td>\n",
              "      <td>100.964989</td>\n",
              "      <td>171.152390</td>\n",
              "      <td>177.762861</td>\n",
              "      <td>194.753625</td>\n",
              "      <td>1.0</td>\n",
              "      <td>3.0</td>\n",
              "      <td>21.013400</td>\n",
              "      <td>115.754669</td>\n",
              "      <td>102.932011</td>\n",
              "      <td>168.914758</td>\n",
              "      <td>182.993524</td>\n",
              "      <td>194.953858</td>\n",
              "      <td>1.0</td>\n",
              "      <td>4.0</td>\n",
              "      <td>82.790436</td>\n",
              "      <td>249.557541</td>\n",
              "      <td>133.368347</td>\n",
              "      <td>174.047838</td>\n",
              "      <td>181.097954</td>\n",
              "      <td>185.271230</td>\n",
              "      <td>0.50</td>\n",
              "    </tr>\n",
              "    <tr>\n",
              "      <th>4</th>\n",
              "      <td>1.0</td>\n",
              "      <td>1.0</td>\n",
              "      <td>1.0</td>\n",
              "      <td>1.0</td>\n",
              "      <td>1.0</td>\n",
              "      <td>1.0</td>\n",
              "      <td>10.121213</td>\n",
              "      <td>174.969156</td>\n",
              "      <td>154.574803</td>\n",
              "      <td>170.387404</td>\n",
              "      <td>183.690851</td>\n",
              "      <td>170.920632</td>\n",
              "      <td>1.0</td>\n",
              "      <td>2.0</td>\n",
              "      <td>32.584839</td>\n",
              "      <td>117.829577</td>\n",
              "      <td>91.092588</td>\n",
              "      <td>172.499420</td>\n",
              "      <td>181.987770</td>\n",
              "      <td>184.110848</td>\n",
              "      <td>1.0</td>\n",
              "      <td>3.0</td>\n",
              "      <td>49.933988</td>\n",
              "      <td>102.432008</td>\n",
              "      <td>119.072024</td>\n",
              "      <td>140.481934</td>\n",
              "      <td>179.323620</td>\n",
              "      <td>187.820048</td>\n",
              "      <td>1.0</td>\n",
              "      <td>4.0</td>\n",
              "      <td>138.689995</td>\n",
              "      <td>161.182537</td>\n",
              "      <td>170.036419</td>\n",
              "      <td>142.583668</td>\n",
              "      <td>180.749355</td>\n",
              "      <td>154.748623</td>\n",
              "      <td>0.25</td>\n",
              "    </tr>\n",
              "  </tbody>\n",
              "</table>\n",
              "</div>"
            ],
            "text/plain": [
              "           fv.st.hp  fv.bl.hp  fv.im.hp  ...  sv.ft.bf.ka  sv.ft.hip.a  accuracy\n",
              "shot name                                ...                                    \n",
              "1               1.0       1.0       1.0  ...   176.703864   154.729480      0.40\n",
              "2               1.0       1.0       1.0  ...   184.981035   181.590911      0.00\n",
              "3               1.0       1.0       1.0  ...   181.097954   185.271230      0.50\n",
              "4               1.0       1.0       1.0  ...   180.749355   154.748623      0.25\n",
              "\n",
              "[4 rows x 37 columns]"
            ]
          },
          "metadata": {},
          "execution_count": 7
        }
      ]
    },
    {
      "cell_type": "code",
      "metadata": {
        "id": "ELXUYR8csgdP"
      },
      "source": [
        "# determining inputs and target\n",
        "inputs = df.drop(columns = ['shot name','accuracy'])\n",
        "target = df[['shot name']]"
      ],
      "execution_count": 8,
      "outputs": []
    },
    {
      "cell_type": "code",
      "metadata": {
        "id": "rNSHuh6msroe"
      },
      "source": [
        "# split the dataset into train and test subsets\n",
        "from sklearn.model_selection import train_test_split\n",
        "X_train, X_test, y_train, y_test = train_test_split(inputs,target,train_size=0.9)"
      ],
      "execution_count": 9,
      "outputs": []
    },
    {
      "cell_type": "code",
      "metadata": {
        "colab": {
          "base_uri": "https://localhost:8080/",
          "height": 163
        },
        "id": "_9M_rrWsyxEv",
        "outputId": "68b7d0a5-c56e-4a46-fa4d-f69315138602"
      },
      "source": [
        "X_test"
      ],
      "execution_count": 19,
      "outputs": [
        {
          "output_type": "execute_result",
          "data": {
            "text/html": [
              "<div>\n",
              "<style scoped>\n",
              "    .dataframe tbody tr th:only-of-type {\n",
              "        vertical-align: middle;\n",
              "    }\n",
              "\n",
              "    .dataframe tbody tr th {\n",
              "        vertical-align: top;\n",
              "    }\n",
              "\n",
              "    .dataframe thead th {\n",
              "        text-align: right;\n",
              "    }\n",
              "</style>\n",
              "<table border=\"1\" class=\"dataframe\">\n",
              "  <thead>\n",
              "    <tr style=\"text-align: right;\">\n",
              "      <th></th>\n",
              "      <th>fv.st.hp</th>\n",
              "      <th>fv.bl.hp</th>\n",
              "      <th>fv.im.hp</th>\n",
              "      <th>fv.ft.hp</th>\n",
              "      <th>sv.st.hp</th>\n",
              "      <th>st.stage</th>\n",
              "      <th>sv.st.ba</th>\n",
              "      <th>sv.st.tha</th>\n",
              "      <th>sv.st.bha</th>\n",
              "      <th>sv.st.ff.ka</th>\n",
              "      <th>sv.st.bf.ka</th>\n",
              "      <th>sv.st.hip.a</th>\n",
              "      <th>sv.bl.hp</th>\n",
              "      <th>bl.stage</th>\n",
              "      <th>sv.bl.ba</th>\n",
              "      <th>sv.bl.tha</th>\n",
              "      <th>sv.bl.bha</th>\n",
              "      <th>sv.bl.ff.ka</th>\n",
              "      <th>sv.bl.bf.ka</th>\n",
              "      <th>sv.bl.hip.a</th>\n",
              "      <th>sv.im.hp</th>\n",
              "      <th>im.stage</th>\n",
              "      <th>sv.im.ba</th>\n",
              "      <th>sv.im.tha</th>\n",
              "      <th>sv.im.bha</th>\n",
              "      <th>sv.im.ff.ka</th>\n",
              "      <th>sv.im.bf.ka</th>\n",
              "      <th>sv.im.hip.a</th>\n",
              "      <th>sv.ft.hp</th>\n",
              "      <th>ft.stage</th>\n",
              "      <th>sv.ft.ba</th>\n",
              "      <th>sv.ft.tha</th>\n",
              "      <th>sv.ft.bha</th>\n",
              "      <th>sv.ft.ff.ka</th>\n",
              "      <th>sv.ft.bf.ka</th>\n",
              "      <th>sv.ft.hip.a</th>\n",
              "    </tr>\n",
              "  </thead>\n",
              "  <tbody>\n",
              "    <tr>\n",
              "      <th>27</th>\n",
              "      <td>1</td>\n",
              "      <td>1</td>\n",
              "      <td>1</td>\n",
              "      <td>1</td>\n",
              "      <td>1</td>\n",
              "      <td>1</td>\n",
              "      <td>14.536549</td>\n",
              "      <td>171.688731</td>\n",
              "      <td>157.754648</td>\n",
              "      <td>162.443962</td>\n",
              "      <td>172.938686</td>\n",
              "      <td>171.161973</td>\n",
              "      <td>1</td>\n",
              "      <td>2</td>\n",
              "      <td>16.173684</td>\n",
              "      <td>102.752003</td>\n",
              "      <td>80.974916</td>\n",
              "      <td>174.627559</td>\n",
              "      <td>178.653598</td>\n",
              "      <td>194.666832</td>\n",
              "      <td>1</td>\n",
              "      <td>3</td>\n",
              "      <td>22.666075</td>\n",
              "      <td>110.612170</td>\n",
              "      <td>82.375512</td>\n",
              "      <td>167.369584</td>\n",
              "      <td>182.948723</td>\n",
              "      <td>193.809156</td>\n",
              "      <td>1</td>\n",
              "      <td>4</td>\n",
              "      <td>161.643907</td>\n",
              "      <td>237.597082</td>\n",
              "      <td>158.341995</td>\n",
              "      <td>175.681731</td>\n",
              "      <td>181.525934</td>\n",
              "      <td>176.681731</td>\n",
              "    </tr>\n",
              "    <tr>\n",
              "      <th>10</th>\n",
              "      <td>1</td>\n",
              "      <td>1</td>\n",
              "      <td>1</td>\n",
              "      <td>1</td>\n",
              "      <td>1</td>\n",
              "      <td>1</td>\n",
              "      <td>48.655286</td>\n",
              "      <td>132.284128</td>\n",
              "      <td>234.482742</td>\n",
              "      <td>167.124757</td>\n",
              "      <td>185.693719</td>\n",
              "      <td>178.281563</td>\n",
              "      <td>1</td>\n",
              "      <td>2</td>\n",
              "      <td>1.245673</td>\n",
              "      <td>186.812855</td>\n",
              "      <td>156.856490</td>\n",
              "      <td>162.859088</td>\n",
              "      <td>203.492231</td>\n",
              "      <td>152.972284</td>\n",
              "      <td>1</td>\n",
              "      <td>3</td>\n",
              "      <td>54.650602</td>\n",
              "      <td>134.873437</td>\n",
              "      <td>82.460272</td>\n",
              "      <td>133.527006</td>\n",
              "      <td>185.705734</td>\n",
              "      <td>190.046407</td>\n",
              "      <td>1</td>\n",
              "      <td>4</td>\n",
              "      <td>156.811897</td>\n",
              "      <td>259.681677</td>\n",
              "      <td>101.937333</td>\n",
              "      <td>122.924813</td>\n",
              "      <td>182.380773</td>\n",
              "      <td>186.083847</td>\n",
              "    </tr>\n",
              "    <tr>\n",
              "      <th>15</th>\n",
              "      <td>1</td>\n",
              "      <td>1</td>\n",
              "      <td>1</td>\n",
              "      <td>1</td>\n",
              "      <td>1</td>\n",
              "      <td>1</td>\n",
              "      <td>11.781149</td>\n",
              "      <td>175.505472</td>\n",
              "      <td>161.063211</td>\n",
              "      <td>163.168086</td>\n",
              "      <td>178.530382</td>\n",
              "      <td>176.954128</td>\n",
              "      <td>1</td>\n",
              "      <td>2</td>\n",
              "      <td>27.577490</td>\n",
              "      <td>130.946950</td>\n",
              "      <td>120.621730</td>\n",
              "      <td>168.677221</td>\n",
              "      <td>178.538790</td>\n",
              "      <td>195.493752</td>\n",
              "      <td>1</td>\n",
              "      <td>3</td>\n",
              "      <td>19.414059</td>\n",
              "      <td>120.897167</td>\n",
              "      <td>123.488510</td>\n",
              "      <td>170.126599</td>\n",
              "      <td>183.371659</td>\n",
              "      <td>195.765227</td>\n",
              "      <td>1</td>\n",
              "      <td>4</td>\n",
              "      <td>4.636965</td>\n",
              "      <td>261.518000</td>\n",
              "      <td>108.828032</td>\n",
              "      <td>171.747277</td>\n",
              "      <td>180.703307</td>\n",
              "      <td>194.194061</td>\n",
              "    </tr>\n",
              "  </tbody>\n",
              "</table>\n",
              "</div>"
            ],
            "text/plain": [
              "    fv.st.hp  fv.bl.hp  fv.im.hp  ...  sv.ft.ff.ka  sv.ft.bf.ka  sv.ft.hip.a\n",
              "27         1         1         1  ...   175.681731   181.525934   176.681731\n",
              "10         1         1         1  ...   122.924813   182.380773   186.083847\n",
              "15         1         1         1  ...   171.747277   180.703307   194.194061\n",
              "\n",
              "[3 rows x 36 columns]"
            ]
          },
          "metadata": {},
          "execution_count": 19
        }
      ]
    },
    {
      "cell_type": "code",
      "metadata": {
        "id": "cRkIdvAdsvmB"
      },
      "source": [
        "# import the model\n",
        "from sklearn.linear_model import LogisticRegression\n",
        "model = LogisticRegression()"
      ],
      "execution_count": 12,
      "outputs": []
    },
    {
      "cell_type": "code",
      "metadata": {
        "colab": {
          "base_uri": "https://localhost:8080/"
        },
        "id": "6tGo6V-Ls_Yv",
        "outputId": "b5eced16-e9d0-4d16-c926-d2625047eafb"
      },
      "source": [
        "# training the model\n",
        "model.fit(X_train,y_train)"
      ],
      "execution_count": 15,
      "outputs": [
        {
          "output_type": "stream",
          "name": "stderr",
          "text": [
            "/usr/local/lib/python3.7/dist-packages/sklearn/utils/validation.py:985: DataConversionWarning: A column-vector y was passed when a 1d array was expected. Please change the shape of y to (n_samples, ), for example using ravel().\n",
            "  y = column_or_1d(y, warn=True)\n",
            "/usr/local/lib/python3.7/dist-packages/sklearn/linear_model/_logistic.py:818: ConvergenceWarning: lbfgs failed to converge (status=1):\n",
            "STOP: TOTAL NO. of ITERATIONS REACHED LIMIT.\n",
            "\n",
            "Increase the number of iterations (max_iter) or scale the data as shown in:\n",
            "    https://scikit-learn.org/stable/modules/preprocessing.html\n",
            "Please also refer to the documentation for alternative solver options:\n",
            "    https://scikit-learn.org/stable/modules/linear_model.html#logistic-regression\n",
            "  extra_warning_msg=_LOGISTIC_SOLVER_CONVERGENCE_MSG,\n"
          ]
        },
        {
          "output_type": "execute_result",
          "data": {
            "text/plain": [
              "LogisticRegression()"
            ]
          },
          "metadata": {},
          "execution_count": 15
        }
      ]
    },
    {
      "cell_type": "code",
      "metadata": {
        "colab": {
          "base_uri": "https://localhost:8080/"
        },
        "id": "7S7_gaCMtBGm",
        "outputId": "0f1a9493-e190-4526-fcac-682e4f7ea841"
      },
      "source": [
        "# predicting the outputs\n",
        "model.predict(X_test)"
      ],
      "execution_count": 16,
      "outputs": [
        {
          "output_type": "execute_result",
          "data": {
            "text/plain": [
              "array([3, 1, 3])"
            ]
          },
          "metadata": {},
          "execution_count": 16
        }
      ]
    },
    {
      "cell_type": "code",
      "metadata": {
        "colab": {
          "base_uri": "https://localhost:8080/"
        },
        "id": "tDZUvl_7tDOb",
        "outputId": "3dc68710-efd7-4719-bf12-9b67b17456ef"
      },
      "source": [
        "# accuracy of the model\n",
        "model.score(X_test,y_test)"
      ],
      "execution_count": 17,
      "outputs": [
        {
          "output_type": "execute_result",
          "data": {
            "text/plain": [
              "0.6666666666666666"
            ]
          },
          "metadata": {},
          "execution_count": 17
        }
      ]
    }
  ]
}