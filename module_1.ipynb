{
  "cells": [
    {
      "cell_type": "markdown",
      "metadata": {
        "id": "view-in-github",
        "colab_type": "text"
      },
      "source": [
        "<a href=\"https://colab.research.google.com/github/Sithija97/Python-Projects/blob/main/module_1.ipynb\" target=\"_parent\"><img src=\"https://colab.research.google.com/assets/colab-badge.svg\" alt=\"Open In Colab\"/></a>"
      ]
    },
    {
      "cell_type": "code",
      "execution_count": 1,
      "metadata": {
        "id": "d0HkNIc0sUp4"
      },
      "outputs": [],
      "source": [
        "import pandas as pd\n",
        "from matplotlib import pyplot as plt\n",
        "%matplotlib inline"
      ]
    },
    {
      "cell_type": "code",
      "source": [
        "from google.colab import files\n",
        "\n",
        "uploaded = files.upload()"
      ],
      "metadata": {
        "colab": {
          "resources": {
            "http://localhost:8080/nbextensions/google.colab/files.js": {
              "data": "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",
              "ok": true,
              "headers": [
                [
                  "content-type",
                  "application/javascript"
                ]
              ],
              "status": 200,
              "status_text": "OK"
            }
          },
          "base_uri": "https://localhost:8080/",
          "height": 74
        },
        "id": "7k6bv2Ey_0Ge",
        "outputId": "856342d6-b54c-446e-b039-d6f47da0f763"
      },
      "execution_count": 2,
      "outputs": [
        {
          "output_type": "display_data",
          "data": {
            "text/plain": [
              "<IPython.core.display.HTML object>"
            ],
            "text/html": [
              "\n",
              "     <input type=\"file\" id=\"files-94777f54-9d15-4350-ad6e-4ece31a8e590\" name=\"files[]\" multiple disabled\n",
              "        style=\"border:none\" />\n",
              "     <output id=\"result-94777f54-9d15-4350-ad6e-4ece31a8e590\">\n",
              "      Upload widget is only available when the cell has been executed in the\n",
              "      current browser session. Please rerun this cell to enable.\n",
              "      </output>\n",
              "      <script src=\"/nbextensions/google.colab/files.js\"></script> "
            ]
          },
          "metadata": {}
        },
        {
          "output_type": "stream",
          "name": "stdout",
          "text": [
            "Saving shots_detection_data_set.xlsx to shots_detection_data_set.xlsx\n"
          ]
        }
      ]
    },
    {
      "cell_type": "code",
      "execution_count": 3,
      "metadata": {
        "colab": {
          "base_uri": "https://localhost:8080/",
          "height": 404
        },
        "id": "yDyZza-tsZ5b",
        "outputId": "ddef4f84-73e2-49a6-ae5a-b32290fee7df"
      },
      "outputs": [
        {
          "output_type": "execute_result",
          "data": {
            "text/plain": [
              "   fv.st.hp  fv.bl.hp  fv.ds.hp  fv.im.hp  fv.ft.hp  fsv.st.ba  fsv.st.tha  \\\n",
              "0       1.0       1.0       1.0       1.0       1.0  39.050223  173.403701   \n",
              "1       1.0       1.0       1.0       1.0       1.0  37.253919  175.260633   \n",
              "2       1.0       1.0       1.0       1.0       1.0  27.533375  176.260343   \n",
              "3       1.0       1.0       1.0       1.0       1.0  27.533375  176.260343   \n",
              "4       1.0       1.0       1.0       1.0       1.0  28.542006  177.489025   \n",
              "\n",
              "   fsv.st.bha  fsv.st.ff.ka  fsv.st.bf.ka  ...  bsv.im.bf.ka  bsv.im.hip.a  \\\n",
              "0  173.540083    170.547831    178.030230  ...    158.315253    171.014743   \n",
              "1  171.888323    173.289234    172.546227  ...    173.043681    172.243327   \n",
              "2  171.149777    168.745427    172.087051  ...    168.593886    164.264251   \n",
              "3  171.149777    168.745427    172.087051  ...    168.593886    164.264251   \n",
              "4  172.796671    168.898101    172.239548  ...    166.200577    171.605351   \n",
              "\n",
              "   bsv.ft.ba  bsv.ft.tha  bsv.ft.bha  bsv.ft.ff.ka  bsv.ft.bf.ka  \\\n",
              "0        0.0  348.509848    2.215897    142.151989    173.945860   \n",
              "1        0.0  299.921692  181.229959    173.876313    177.015762   \n",
              "2        0.0  112.345479  107.445714    154.701123    166.084491   \n",
              "3        0.0   92.179390   77.878870    150.949791    164.874773   \n",
              "4        0.0  114.965641  108.770398    143.429059    163.295278   \n",
              "\n",
              "   bsv.ft.hip.a  player                shot  \n",
              "0    172.220420     1.0                pull  \n",
              "1    182.289155     1.0                 cut  \n",
              "2    167.794345     1.0     back foot drive  \n",
              "3    165.237805     1.0  back foot deffence  \n",
              "4    175.509456     1.0    front foot drive  \n",
              "\n",
              "[5 rows x 67 columns]"
            ],
            "text/html": [
              "\n",
              "  <div id=\"df-a520c5a9-70d8-4f1d-ae01-e89645fb63c9\">\n",
              "    <div class=\"colab-df-container\">\n",
              "      <div>\n",
              "<style scoped>\n",
              "    .dataframe tbody tr th:only-of-type {\n",
              "        vertical-align: middle;\n",
              "    }\n",
              "\n",
              "    .dataframe tbody tr th {\n",
              "        vertical-align: top;\n",
              "    }\n",
              "\n",
              "    .dataframe thead th {\n",
              "        text-align: right;\n",
              "    }\n",
              "</style>\n",
              "<table border=\"1\" class=\"dataframe\">\n",
              "  <thead>\n",
              "    <tr style=\"text-align: right;\">\n",
              "      <th></th>\n",
              "      <th>fv.st.hp</th>\n",
              "      <th>fv.bl.hp</th>\n",
              "      <th>fv.ds.hp</th>\n",
              "      <th>fv.im.hp</th>\n",
              "      <th>fv.ft.hp</th>\n",
              "      <th>fsv.st.ba</th>\n",
              "      <th>fsv.st.tha</th>\n",
              "      <th>fsv.st.bha</th>\n",
              "      <th>fsv.st.ff.ka</th>\n",
              "      <th>fsv.st.bf.ka</th>\n",
              "      <th>...</th>\n",
              "      <th>bsv.im.bf.ka</th>\n",
              "      <th>bsv.im.hip.a</th>\n",
              "      <th>bsv.ft.ba</th>\n",
              "      <th>bsv.ft.tha</th>\n",
              "      <th>bsv.ft.bha</th>\n",
              "      <th>bsv.ft.ff.ka</th>\n",
              "      <th>bsv.ft.bf.ka</th>\n",
              "      <th>bsv.ft.hip.a</th>\n",
              "      <th>player</th>\n",
              "      <th>shot</th>\n",
              "    </tr>\n",
              "  </thead>\n",
              "  <tbody>\n",
              "    <tr>\n",
              "      <th>0</th>\n",
              "      <td>1.0</td>\n",
              "      <td>1.0</td>\n",
              "      <td>1.0</td>\n",
              "      <td>1.0</td>\n",
              "      <td>1.0</td>\n",
              "      <td>39.050223</td>\n",
              "      <td>173.403701</td>\n",
              "      <td>173.540083</td>\n",
              "      <td>170.547831</td>\n",
              "      <td>178.030230</td>\n",
              "      <td>...</td>\n",
              "      <td>158.315253</td>\n",
              "      <td>171.014743</td>\n",
              "      <td>0.0</td>\n",
              "      <td>348.509848</td>\n",
              "      <td>2.215897</td>\n",
              "      <td>142.151989</td>\n",
              "      <td>173.945860</td>\n",
              "      <td>172.220420</td>\n",
              "      <td>1.0</td>\n",
              "      <td>pull</td>\n",
              "    </tr>\n",
              "    <tr>\n",
              "      <th>1</th>\n",
              "      <td>1.0</td>\n",
              "      <td>1.0</td>\n",
              "      <td>1.0</td>\n",
              "      <td>1.0</td>\n",
              "      <td>1.0</td>\n",
              "      <td>37.253919</td>\n",
              "      <td>175.260633</td>\n",
              "      <td>171.888323</td>\n",
              "      <td>173.289234</td>\n",
              "      <td>172.546227</td>\n",
              "      <td>...</td>\n",
              "      <td>173.043681</td>\n",
              "      <td>172.243327</td>\n",
              "      <td>0.0</td>\n",
              "      <td>299.921692</td>\n",
              "      <td>181.229959</td>\n",
              "      <td>173.876313</td>\n",
              "      <td>177.015762</td>\n",
              "      <td>182.289155</td>\n",
              "      <td>1.0</td>\n",
              "      <td>cut</td>\n",
              "    </tr>\n",
              "    <tr>\n",
              "      <th>2</th>\n",
              "      <td>1.0</td>\n",
              "      <td>1.0</td>\n",
              "      <td>1.0</td>\n",
              "      <td>1.0</td>\n",
              "      <td>1.0</td>\n",
              "      <td>27.533375</td>\n",
              "      <td>176.260343</td>\n",
              "      <td>171.149777</td>\n",
              "      <td>168.745427</td>\n",
              "      <td>172.087051</td>\n",
              "      <td>...</td>\n",
              "      <td>168.593886</td>\n",
              "      <td>164.264251</td>\n",
              "      <td>0.0</td>\n",
              "      <td>112.345479</td>\n",
              "      <td>107.445714</td>\n",
              "      <td>154.701123</td>\n",
              "      <td>166.084491</td>\n",
              "      <td>167.794345</td>\n",
              "      <td>1.0</td>\n",
              "      <td>back foot drive</td>\n",
              "    </tr>\n",
              "    <tr>\n",
              "      <th>3</th>\n",
              "      <td>1.0</td>\n",
              "      <td>1.0</td>\n",
              "      <td>1.0</td>\n",
              "      <td>1.0</td>\n",
              "      <td>1.0</td>\n",
              "      <td>27.533375</td>\n",
              "      <td>176.260343</td>\n",
              "      <td>171.149777</td>\n",
              "      <td>168.745427</td>\n",
              "      <td>172.087051</td>\n",
              "      <td>...</td>\n",
              "      <td>168.593886</td>\n",
              "      <td>164.264251</td>\n",
              "      <td>0.0</td>\n",
              "      <td>92.179390</td>\n",
              "      <td>77.878870</td>\n",
              "      <td>150.949791</td>\n",
              "      <td>164.874773</td>\n",
              "      <td>165.237805</td>\n",
              "      <td>1.0</td>\n",
              "      <td>back foot deffence</td>\n",
              "    </tr>\n",
              "    <tr>\n",
              "      <th>4</th>\n",
              "      <td>1.0</td>\n",
              "      <td>1.0</td>\n",
              "      <td>1.0</td>\n",
              "      <td>1.0</td>\n",
              "      <td>1.0</td>\n",
              "      <td>28.542006</td>\n",
              "      <td>177.489025</td>\n",
              "      <td>172.796671</td>\n",
              "      <td>168.898101</td>\n",
              "      <td>172.239548</td>\n",
              "      <td>...</td>\n",
              "      <td>166.200577</td>\n",
              "      <td>171.605351</td>\n",
              "      <td>0.0</td>\n",
              "      <td>114.965641</td>\n",
              "      <td>108.770398</td>\n",
              "      <td>143.429059</td>\n",
              "      <td>163.295278</td>\n",
              "      <td>175.509456</td>\n",
              "      <td>1.0</td>\n",
              "      <td>front foot drive</td>\n",
              "    </tr>\n",
              "  </tbody>\n",
              "</table>\n",
              "<p>5 rows × 67 columns</p>\n",
              "</div>\n",
              "      <button class=\"colab-df-convert\" onclick=\"convertToInteractive('df-a520c5a9-70d8-4f1d-ae01-e89645fb63c9')\"\n",
              "              title=\"Convert this dataframe to an interactive table.\"\n",
              "              style=\"display:none;\">\n",
              "        \n",
              "  <svg xmlns=\"http://www.w3.org/2000/svg\" height=\"24px\"viewBox=\"0 0 24 24\"\n",
              "       width=\"24px\">\n",
              "    <path d=\"M0 0h24v24H0V0z\" fill=\"none\"/>\n",
              "    <path d=\"M18.56 5.44l.94 2.06.94-2.06 2.06-.94-2.06-.94-.94-2.06-.94 2.06-2.06.94zm-11 1L8.5 8.5l.94-2.06 2.06-.94-2.06-.94L8.5 2.5l-.94 2.06-2.06.94zm10 10l.94 2.06.94-2.06 2.06-.94-2.06-.94-.94-2.06-.94 2.06-2.06.94z\"/><path d=\"M17.41 7.96l-1.37-1.37c-.4-.4-.92-.59-1.43-.59-.52 0-1.04.2-1.43.59L10.3 9.45l-7.72 7.72c-.78.78-.78 2.05 0 2.83L4 21.41c.39.39.9.59 1.41.59.51 0 1.02-.2 1.41-.59l7.78-7.78 2.81-2.81c.8-.78.8-2.07 0-2.86zM5.41 20L4 18.59l7.72-7.72 1.47 1.35L5.41 20z\"/>\n",
              "  </svg>\n",
              "      </button>\n",
              "      \n",
              "  <style>\n",
              "    .colab-df-container {\n",
              "      display:flex;\n",
              "      flex-wrap:wrap;\n",
              "      gap: 12px;\n",
              "    }\n",
              "\n",
              "    .colab-df-convert {\n",
              "      background-color: #E8F0FE;\n",
              "      border: none;\n",
              "      border-radius: 50%;\n",
              "      cursor: pointer;\n",
              "      display: none;\n",
              "      fill: #1967D2;\n",
              "      height: 32px;\n",
              "      padding: 0 0 0 0;\n",
              "      width: 32px;\n",
              "    }\n",
              "\n",
              "    .colab-df-convert:hover {\n",
              "      background-color: #E2EBFA;\n",
              "      box-shadow: 0px 1px 2px rgba(60, 64, 67, 0.3), 0px 1px 3px 1px rgba(60, 64, 67, 0.15);\n",
              "      fill: #174EA6;\n",
              "    }\n",
              "\n",
              "    [theme=dark] .colab-df-convert {\n",
              "      background-color: #3B4455;\n",
              "      fill: #D2E3FC;\n",
              "    }\n",
              "\n",
              "    [theme=dark] .colab-df-convert:hover {\n",
              "      background-color: #434B5C;\n",
              "      box-shadow: 0px 1px 3px 1px rgba(0, 0, 0, 0.15);\n",
              "      filter: drop-shadow(0px 1px 2px rgba(0, 0, 0, 0.3));\n",
              "      fill: #FFFFFF;\n",
              "    }\n",
              "  </style>\n",
              "\n",
              "      <script>\n",
              "        const buttonEl =\n",
              "          document.querySelector('#df-a520c5a9-70d8-4f1d-ae01-e89645fb63c9 button.colab-df-convert');\n",
              "        buttonEl.style.display =\n",
              "          google.colab.kernel.accessAllowed ? 'block' : 'none';\n",
              "\n",
              "        async function convertToInteractive(key) {\n",
              "          const element = document.querySelector('#df-a520c5a9-70d8-4f1d-ae01-e89645fb63c9');\n",
              "          const dataTable =\n",
              "            await google.colab.kernel.invokeFunction('convertToInteractive',\n",
              "                                                     [key], {});\n",
              "          if (!dataTable) return;\n",
              "\n",
              "          const docLinkHtml = 'Like what you see? Visit the ' +\n",
              "            '<a target=\"_blank\" href=https://colab.research.google.com/notebooks/data_table.ipynb>data table notebook</a>'\n",
              "            + ' to learn more about interactive tables.';\n",
              "          element.innerHTML = '';\n",
              "          dataTable['output_type'] = 'display_data';\n",
              "          await google.colab.output.renderOutput(dataTable, element);\n",
              "          const docLink = document.createElement('div');\n",
              "          docLink.innerHTML = docLinkHtml;\n",
              "          element.appendChild(docLink);\n",
              "        }\n",
              "      </script>\n",
              "    </div>\n",
              "  </div>\n",
              "  "
            ]
          },
          "metadata": {},
          "execution_count": 3
        }
      ],
      "source": [
        "# reading the csv file\n",
        "df = pd.read_excel(\"shots_detection_data_set.xlsx\",index_col=False)\n",
        "df.head()\n"
      ]
    },
    {
      "cell_type": "code",
      "execution_count": null,
      "metadata": {
        "colab": {
          "base_uri": "https://localhost:8080/",
          "height": 243
        },
        "id": "B-hRss0bsbnS",
        "outputId": "1dc6b814-913a-42cb-8c63-6a7ce6daa0b6"
      },
      "outputs": [
        {
          "data": {
            "text/html": [
              "<div>\n",
              "<style scoped>\n",
              "    .dataframe tbody tr th:only-of-type {\n",
              "        vertical-align: middle;\n",
              "    }\n",
              "\n",
              "    .dataframe tbody tr th {\n",
              "        vertical-align: top;\n",
              "    }\n",
              "\n",
              "    .dataframe thead th {\n",
              "        text-align: right;\n",
              "    }\n",
              "</style>\n",
              "<table border=\"1\" class=\"dataframe\">\n",
              "  <thead>\n",
              "    <tr style=\"text-align: right;\">\n",
              "      <th></th>\n",
              "      <th>fv.st.hp</th>\n",
              "      <th>fv.bl.hp</th>\n",
              "      <th>fv.ds.hp</th>\n",
              "      <th>fv.im.hp</th>\n",
              "      <th>fv.ft.hp</th>\n",
              "      <th>fsv.st.ba</th>\n",
              "      <th>fsv.st.tha</th>\n",
              "      <th>fsv.st.bha</th>\n",
              "      <th>fsv.st.ff.ka</th>\n",
              "      <th>fsv.st.bf.ka</th>\n",
              "      <th>...</th>\n",
              "      <th>bsv.im.ff.ka</th>\n",
              "      <th>bsv.im.bf.ka</th>\n",
              "      <th>bsv.im.hip.a</th>\n",
              "      <th>bsv.ft.ba</th>\n",
              "      <th>bsv.ft.tha</th>\n",
              "      <th>bsv.ft.bha</th>\n",
              "      <th>bsv.ft.ff.ka</th>\n",
              "      <th>bsv.ft.bf.ka</th>\n",
              "      <th>bsv.ft.hip.a</th>\n",
              "      <th>player</th>\n",
              "    </tr>\n",
              "    <tr>\n",
              "      <th>shot</th>\n",
              "      <th></th>\n",
              "      <th></th>\n",
              "      <th></th>\n",
              "      <th></th>\n",
              "      <th></th>\n",
              "      <th></th>\n",
              "      <th></th>\n",
              "      <th></th>\n",
              "      <th></th>\n",
              "      <th></th>\n",
              "      <th></th>\n",
              "      <th></th>\n",
              "      <th></th>\n",
              "      <th></th>\n",
              "      <th></th>\n",
              "      <th></th>\n",
              "      <th></th>\n",
              "      <th></th>\n",
              "      <th></th>\n",
              "      <th></th>\n",
              "      <th></th>\n",
              "    </tr>\n",
              "  </thead>\n",
              "  <tbody>\n",
              "    <tr>\n",
              "      <th>back foot deffence</th>\n",
              "      <td>1.0</td>\n",
              "      <td>1.0</td>\n",
              "      <td>1.0</td>\n",
              "      <td>1.0</td>\n",
              "      <td>1.0</td>\n",
              "      <td>27.430692</td>\n",
              "      <td>176.510343</td>\n",
              "      <td>1.714831e+02</td>\n",
              "      <td>168.245427</td>\n",
              "      <td>172.003718</td>\n",
              "      <td>...</td>\n",
              "      <td>153.020056</td>\n",
              "      <td>168.849719</td>\n",
              "      <td>163.347584</td>\n",
              "      <td>0.000000</td>\n",
              "      <td>92.179390</td>\n",
              "      <td>77.878870</td>\n",
              "      <td>151.616458</td>\n",
              "      <td>164.374773</td>\n",
              "      <td>165.154472</td>\n",
              "      <td>1.0</td>\n",
              "    </tr>\n",
              "    <tr>\n",
              "      <th>back foot drive</th>\n",
              "      <td>1.0</td>\n",
              "      <td>1.0</td>\n",
              "      <td>1.0</td>\n",
              "      <td>1.0</td>\n",
              "      <td>1.0</td>\n",
              "      <td>27.446342</td>\n",
              "      <td>176.050343</td>\n",
              "      <td>1.717313e+02</td>\n",
              "      <td>168.406594</td>\n",
              "      <td>172.145384</td>\n",
              "      <td>...</td>\n",
              "      <td>153.020056</td>\n",
              "      <td>168.849719</td>\n",
              "      <td>163.347584</td>\n",
              "      <td>0.000000</td>\n",
              "      <td>112.178812</td>\n",
              "      <td>106.612381</td>\n",
              "      <td>154.867790</td>\n",
              "      <td>166.501158</td>\n",
              "      <td>168.294345</td>\n",
              "      <td>1.0</td>\n",
              "    </tr>\n",
              "    <tr>\n",
              "      <th>cut</th>\n",
              "      <td>1.0</td>\n",
              "      <td>1.0</td>\n",
              "      <td>1.0</td>\n",
              "      <td>1.0</td>\n",
              "      <td>1.0</td>\n",
              "      <td>37.247002</td>\n",
              "      <td>175.227300</td>\n",
              "      <td>1.431650e+12</td>\n",
              "      <td>172.985567</td>\n",
              "      <td>172.662060</td>\n",
              "      <td>...</td>\n",
              "      <td>171.457443</td>\n",
              "      <td>172.810348</td>\n",
              "      <td>172.126660</td>\n",
              "      <td>0.000000</td>\n",
              "      <td>299.163359</td>\n",
              "      <td>15.102497</td>\n",
              "      <td>173.959646</td>\n",
              "      <td>176.849095</td>\n",
              "      <td>181.789155</td>\n",
              "      <td>1.0</td>\n",
              "    </tr>\n",
              "    <tr>\n",
              "      <th>front foot defence</th>\n",
              "      <td>1.0</td>\n",
              "      <td>1.0</td>\n",
              "      <td>1.0</td>\n",
              "      <td>1.0</td>\n",
              "      <td>1.0</td>\n",
              "      <td>32.342749</td>\n",
              "      <td>171.751325</td>\n",
              "      <td>1.694478e+02</td>\n",
              "      <td>171.879674</td>\n",
              "      <td>175.775888</td>\n",
              "      <td>...</td>\n",
              "      <td>146.924055</td>\n",
              "      <td>166.200577</td>\n",
              "      <td>172.022018</td>\n",
              "      <td>0.000000</td>\n",
              "      <td>111.502215</td>\n",
              "      <td>106.301999</td>\n",
              "      <td>146.924055</td>\n",
              "      <td>166.200577</td>\n",
              "      <td>172.022018</td>\n",
              "      <td>1.0</td>\n",
              "    </tr>\n",
              "    <tr>\n",
              "      <th>front foot drive</th>\n",
              "      <td>1.0</td>\n",
              "      <td>1.0</td>\n",
              "      <td>1.0</td>\n",
              "      <td>1.0</td>\n",
              "      <td>1.0</td>\n",
              "      <td>27.658673</td>\n",
              "      <td>177.917358</td>\n",
              "      <td>1.727633e+02</td>\n",
              "      <td>168.564768</td>\n",
              "      <td>171.906215</td>\n",
              "      <td>...</td>\n",
              "      <td>146.924055</td>\n",
              "      <td>166.200577</td>\n",
              "      <td>172.022018</td>\n",
              "      <td>0.000000</td>\n",
              "      <td>114.965641</td>\n",
              "      <td>108.187065</td>\n",
              "      <td>143.095726</td>\n",
              "      <td>162.461945</td>\n",
              "      <td>176.259456</td>\n",
              "      <td>1.0</td>\n",
              "    </tr>\n",
              "    <tr>\n",
              "      <th>pull</th>\n",
              "      <td>1.0</td>\n",
              "      <td>1.0</td>\n",
              "      <td>1.0</td>\n",
              "      <td>1.0</td>\n",
              "      <td>1.0</td>\n",
              "      <td>38.954029</td>\n",
              "      <td>173.178806</td>\n",
              "      <td>1.734433e+02</td>\n",
              "      <td>171.131156</td>\n",
              "      <td>177.887308</td>\n",
              "      <td>...</td>\n",
              "      <td>151.086940</td>\n",
              "      <td>158.305253</td>\n",
              "      <td>171.181410</td>\n",
              "      <td>57.770778</td>\n",
              "      <td>348.237265</td>\n",
              "      <td>2.378647</td>\n",
              "      <td>142.204797</td>\n",
              "      <td>174.530943</td>\n",
              "      <td>172.303753</td>\n",
              "      <td>1.0</td>\n",
              "    </tr>\n",
              "  </tbody>\n",
              "</table>\n",
              "<p>6 rows × 66 columns</p>\n",
              "</div>"
            ],
            "text/plain": [
              "                    fv.st.hp  fv.bl.hp  fv.ds.hp  fv.im.hp  fv.ft.hp  \\\n",
              "shot                                                                   \n",
              "back foot deffence       1.0       1.0       1.0       1.0       1.0   \n",
              "back foot drive          1.0       1.0       1.0       1.0       1.0   \n",
              "cut                      1.0       1.0       1.0       1.0       1.0   \n",
              "front foot defence       1.0       1.0       1.0       1.0       1.0   \n",
              "front foot drive         1.0       1.0       1.0       1.0       1.0   \n",
              "pull                     1.0       1.0       1.0       1.0       1.0   \n",
              "\n",
              "                    fsv.st.ba  fsv.st.tha    fsv.st.bha  fsv.st.ff.ka  \\\n",
              "shot                                                                    \n",
              "back foot deffence  27.430692  176.510343  1.714831e+02    168.245427   \n",
              "back foot drive     27.446342  176.050343  1.717313e+02    168.406594   \n",
              "cut                 37.247002  175.227300  1.431650e+12    172.985567   \n",
              "front foot defence  32.342749  171.751325  1.694478e+02    171.879674   \n",
              "front foot drive    27.658673  177.917358  1.727633e+02    168.564768   \n",
              "pull                38.954029  173.178806  1.734433e+02    171.131156   \n",
              "\n",
              "                    fsv.st.bf.ka  ...  bsv.im.ff.ka  bsv.im.bf.ka  \\\n",
              "shot                              ...                               \n",
              "back foot deffence    172.003718  ...    153.020056    168.849719   \n",
              "back foot drive       172.145384  ...    153.020056    168.849719   \n",
              "cut                   172.662060  ...    171.457443    172.810348   \n",
              "front foot defence    175.775888  ...    146.924055    166.200577   \n",
              "front foot drive      171.906215  ...    146.924055    166.200577   \n",
              "pull                  177.887308  ...    151.086940    158.305253   \n",
              "\n",
              "                    bsv.im.hip.a  bsv.ft.ba  bsv.ft.tha  bsv.ft.bha  \\\n",
              "shot                                                                  \n",
              "back foot deffence    163.347584   0.000000   92.179390   77.878870   \n",
              "back foot drive       163.347584   0.000000  112.178812  106.612381   \n",
              "cut                   172.126660   0.000000  299.163359   15.102497   \n",
              "front foot defence    172.022018   0.000000  111.502215  106.301999   \n",
              "front foot drive      172.022018   0.000000  114.965641  108.187065   \n",
              "pull                  171.181410  57.770778  348.237265    2.378647   \n",
              "\n",
              "                    bsv.ft.ff.ka  bsv.ft.bf.ka  bsv.ft.hip.a  player  \n",
              "shot                                                                  \n",
              "back foot deffence    151.616458    164.374773    165.154472     1.0  \n",
              "back foot drive       154.867790    166.501158    168.294345     1.0  \n",
              "cut                   173.959646    176.849095    181.789155     1.0  \n",
              "front foot defence    146.924055    166.200577    172.022018     1.0  \n",
              "front foot drive      143.095726    162.461945    176.259456     1.0  \n",
              "pull                  142.204797    174.530943    172.303753     1.0  \n",
              "\n",
              "[6 rows x 66 columns]"
            ]
          },
          "execution_count": 4,
          "metadata": {},
          "output_type": "execute_result"
        }
      ],
      "source": [
        "# average numbers for all columns\n",
        "df.groupby('shot').mean()"
      ]
    },
    {
      "cell_type": "code",
      "execution_count": 4,
      "metadata": {
        "id": "HqZO9Qw6dlSb"
      },
      "outputs": [],
      "source": [
        "df.shot = pd.Categorical(df.shot)"
      ]
    },
    {
      "cell_type": "code",
      "execution_count": 5,
      "metadata": {
        "id": "77ZiWIV0dlSf"
      },
      "outputs": [],
      "source": [
        "df['shot'] = df.shot.cat.codes "
      ]
    },
    {
      "cell_type": "code",
      "execution_count": 6,
      "metadata": {
        "id": "KATQ1q9KdlSh",
        "outputId": "c4875199-43e0-4d92-c8c5-cb2ba3431293",
        "colab": {
          "base_uri": "https://localhost:8080/",
          "height": 488
        }
      },
      "outputs": [
        {
          "output_type": "execute_result",
          "data": {
            "text/plain": [
              "    fv.st.hp  fv.bl.hp  fv.ds.hp  fv.im.hp  fv.ft.hp  fsv.st.ba  fsv.st.tha  \\\n",
              "0        1.0       1.0       1.0       1.0       1.0  39.050223  173.403701   \n",
              "1        1.0       1.0       1.0       1.0       1.0  37.253919  175.260633   \n",
              "2        1.0       1.0       1.0       1.0       1.0  27.533375  176.260343   \n",
              "3        1.0       1.0       1.0       1.0       1.0  27.533375  176.260343   \n",
              "4        1.0       1.0       1.0       1.0       1.0  28.542006  177.489025   \n",
              "..       ...       ...       ...       ...       ...        ...         ...   \n",
              "67       1.0       1.0       1.0       1.0       1.0  32.092749  170.334658   \n",
              "68       1.0       1.0       1.0       1.0       1.0  32.092749  171.334658   \n",
              "69       1.0       1.0       1.0       1.0       1.0  33.092749  173.334658   \n",
              "70       1.0       1.0       1.0       1.0       1.0  32.092749  172.334658   \n",
              "71       1.0       1.0       1.0       1.0       1.0  30.092749  174.334658   \n",
              "\n",
              "    fsv.st.bha  fsv.st.ff.ka  fsv.st.bf.ka  ...  bsv.im.bf.ka  bsv.im.hip.a  \\\n",
              "0   173.540083    170.547831    178.030230  ...    158.315253    171.014743   \n",
              "1   171.888323    173.289234    172.546227  ...    173.043681    172.243327   \n",
              "2   171.149777    168.745427    172.087051  ...    168.593886    164.264251   \n",
              "3   171.149777    168.745427    172.087051  ...    168.593886    164.264251   \n",
              "4   172.796671    168.898101    172.239548  ...    166.200577    171.605351   \n",
              "..         ...           ...           ...  ...           ...           ...   \n",
              "67  168.447756    172.129674    173.692555  ...    167.200577    171.605351   \n",
              "68  171.447756    171.129674    176.692555  ...    166.200577    174.605351   \n",
              "69  169.447756    170.129674    175.692555  ...    168.200577    170.605351   \n",
              "70  168.447756    173.129674    177.692555  ...    165.200577    171.605351   \n",
              "71  166.447756    172.129674    174.692555  ...    166.200577    172.605351   \n",
              "\n",
              "    bsv.ft.ba  bsv.ft.tha  bsv.ft.bha  bsv.ft.ff.ka  bsv.ft.bf.ka  \\\n",
              "0         0.0  348.509848    2.215897    142.151989    173.945860   \n",
              "1         0.0  299.921692  181.229959    173.876313    177.015762   \n",
              "2         0.0  112.345479  107.445714    154.701123    166.084491   \n",
              "3         0.0   92.179390   77.878870    150.949791    164.874773   \n",
              "4         0.0  114.965641  108.770398    143.429059    163.295278   \n",
              "..        ...         ...         ...           ...           ...   \n",
              "67        0.0  110.835548  107.551999    147.757388    167.200577   \n",
              "68        0.0  112.835548  105.551999    146.757388    166.200577   \n",
              "69        0.0  110.835548  106.551999    145.757388    168.200577   \n",
              "70        0.0  111.835548  105.551999    148.757388    165.200577   \n",
              "71        0.0  112.835548  108.551999    146.757388    166.200577   \n",
              "\n",
              "    bsv.ft.hip.a  player  shot  \n",
              "0     172.220420     1.0     5  \n",
              "1     182.289155     1.0     2  \n",
              "2     167.794345     1.0     1  \n",
              "3     165.237805     1.0     0  \n",
              "4     175.509456     1.0     4  \n",
              "..           ...     ...   ...  \n",
              "67    171.605351     1.0     3  \n",
              "68    174.605351     1.0     3  \n",
              "69    170.605351     1.0     3  \n",
              "70    171.605351     1.0     3  \n",
              "71    172.605351     1.0     3  \n",
              "\n",
              "[72 rows x 67 columns]"
            ],
            "text/html": [
              "\n",
              "  <div id=\"df-b9147678-14ee-4daf-80f3-ef4985568ace\">\n",
              "    <div class=\"colab-df-container\">\n",
              "      <div>\n",
              "<style scoped>\n",
              "    .dataframe tbody tr th:only-of-type {\n",
              "        vertical-align: middle;\n",
              "    }\n",
              "\n",
              "    .dataframe tbody tr th {\n",
              "        vertical-align: top;\n",
              "    }\n",
              "\n",
              "    .dataframe thead th {\n",
              "        text-align: right;\n",
              "    }\n",
              "</style>\n",
              "<table border=\"1\" class=\"dataframe\">\n",
              "  <thead>\n",
              "    <tr style=\"text-align: right;\">\n",
              "      <th></th>\n",
              "      <th>fv.st.hp</th>\n",
              "      <th>fv.bl.hp</th>\n",
              "      <th>fv.ds.hp</th>\n",
              "      <th>fv.im.hp</th>\n",
              "      <th>fv.ft.hp</th>\n",
              "      <th>fsv.st.ba</th>\n",
              "      <th>fsv.st.tha</th>\n",
              "      <th>fsv.st.bha</th>\n",
              "      <th>fsv.st.ff.ka</th>\n",
              "      <th>fsv.st.bf.ka</th>\n",
              "      <th>...</th>\n",
              "      <th>bsv.im.bf.ka</th>\n",
              "      <th>bsv.im.hip.a</th>\n",
              "      <th>bsv.ft.ba</th>\n",
              "      <th>bsv.ft.tha</th>\n",
              "      <th>bsv.ft.bha</th>\n",
              "      <th>bsv.ft.ff.ka</th>\n",
              "      <th>bsv.ft.bf.ka</th>\n",
              "      <th>bsv.ft.hip.a</th>\n",
              "      <th>player</th>\n",
              "      <th>shot</th>\n",
              "    </tr>\n",
              "  </thead>\n",
              "  <tbody>\n",
              "    <tr>\n",
              "      <th>0</th>\n",
              "      <td>1.0</td>\n",
              "      <td>1.0</td>\n",
              "      <td>1.0</td>\n",
              "      <td>1.0</td>\n",
              "      <td>1.0</td>\n",
              "      <td>39.050223</td>\n",
              "      <td>173.403701</td>\n",
              "      <td>173.540083</td>\n",
              "      <td>170.547831</td>\n",
              "      <td>178.030230</td>\n",
              "      <td>...</td>\n",
              "      <td>158.315253</td>\n",
              "      <td>171.014743</td>\n",
              "      <td>0.0</td>\n",
              "      <td>348.509848</td>\n",
              "      <td>2.215897</td>\n",
              "      <td>142.151989</td>\n",
              "      <td>173.945860</td>\n",
              "      <td>172.220420</td>\n",
              "      <td>1.0</td>\n",
              "      <td>5</td>\n",
              "    </tr>\n",
              "    <tr>\n",
              "      <th>1</th>\n",
              "      <td>1.0</td>\n",
              "      <td>1.0</td>\n",
              "      <td>1.0</td>\n",
              "      <td>1.0</td>\n",
              "      <td>1.0</td>\n",
              "      <td>37.253919</td>\n",
              "      <td>175.260633</td>\n",
              "      <td>171.888323</td>\n",
              "      <td>173.289234</td>\n",
              "      <td>172.546227</td>\n",
              "      <td>...</td>\n",
              "      <td>173.043681</td>\n",
              "      <td>172.243327</td>\n",
              "      <td>0.0</td>\n",
              "      <td>299.921692</td>\n",
              "      <td>181.229959</td>\n",
              "      <td>173.876313</td>\n",
              "      <td>177.015762</td>\n",
              "      <td>182.289155</td>\n",
              "      <td>1.0</td>\n",
              "      <td>2</td>\n",
              "    </tr>\n",
              "    <tr>\n",
              "      <th>2</th>\n",
              "      <td>1.0</td>\n",
              "      <td>1.0</td>\n",
              "      <td>1.0</td>\n",
              "      <td>1.0</td>\n",
              "      <td>1.0</td>\n",
              "      <td>27.533375</td>\n",
              "      <td>176.260343</td>\n",
              "      <td>171.149777</td>\n",
              "      <td>168.745427</td>\n",
              "      <td>172.087051</td>\n",
              "      <td>...</td>\n",
              "      <td>168.593886</td>\n",
              "      <td>164.264251</td>\n",
              "      <td>0.0</td>\n",
              "      <td>112.345479</td>\n",
              "      <td>107.445714</td>\n",
              "      <td>154.701123</td>\n",
              "      <td>166.084491</td>\n",
              "      <td>167.794345</td>\n",
              "      <td>1.0</td>\n",
              "      <td>1</td>\n",
              "    </tr>\n",
              "    <tr>\n",
              "      <th>3</th>\n",
              "      <td>1.0</td>\n",
              "      <td>1.0</td>\n",
              "      <td>1.0</td>\n",
              "      <td>1.0</td>\n",
              "      <td>1.0</td>\n",
              "      <td>27.533375</td>\n",
              "      <td>176.260343</td>\n",
              "      <td>171.149777</td>\n",
              "      <td>168.745427</td>\n",
              "      <td>172.087051</td>\n",
              "      <td>...</td>\n",
              "      <td>168.593886</td>\n",
              "      <td>164.264251</td>\n",
              "      <td>0.0</td>\n",
              "      <td>92.179390</td>\n",
              "      <td>77.878870</td>\n",
              "      <td>150.949791</td>\n",
              "      <td>164.874773</td>\n",
              "      <td>165.237805</td>\n",
              "      <td>1.0</td>\n",
              "      <td>0</td>\n",
              "    </tr>\n",
              "    <tr>\n",
              "      <th>4</th>\n",
              "      <td>1.0</td>\n",
              "      <td>1.0</td>\n",
              "      <td>1.0</td>\n",
              "      <td>1.0</td>\n",
              "      <td>1.0</td>\n",
              "      <td>28.542006</td>\n",
              "      <td>177.489025</td>\n",
              "      <td>172.796671</td>\n",
              "      <td>168.898101</td>\n",
              "      <td>172.239548</td>\n",
              "      <td>...</td>\n",
              "      <td>166.200577</td>\n",
              "      <td>171.605351</td>\n",
              "      <td>0.0</td>\n",
              "      <td>114.965641</td>\n",
              "      <td>108.770398</td>\n",
              "      <td>143.429059</td>\n",
              "      <td>163.295278</td>\n",
              "      <td>175.509456</td>\n",
              "      <td>1.0</td>\n",
              "      <td>4</td>\n",
              "    </tr>\n",
              "    <tr>\n",
              "      <th>...</th>\n",
              "      <td>...</td>\n",
              "      <td>...</td>\n",
              "      <td>...</td>\n",
              "      <td>...</td>\n",
              "      <td>...</td>\n",
              "      <td>...</td>\n",
              "      <td>...</td>\n",
              "      <td>...</td>\n",
              "      <td>...</td>\n",
              "      <td>...</td>\n",
              "      <td>...</td>\n",
              "      <td>...</td>\n",
              "      <td>...</td>\n",
              "      <td>...</td>\n",
              "      <td>...</td>\n",
              "      <td>...</td>\n",
              "      <td>...</td>\n",
              "      <td>...</td>\n",
              "      <td>...</td>\n",
              "      <td>...</td>\n",
              "      <td>...</td>\n",
              "    </tr>\n",
              "    <tr>\n",
              "      <th>67</th>\n",
              "      <td>1.0</td>\n",
              "      <td>1.0</td>\n",
              "      <td>1.0</td>\n",
              "      <td>1.0</td>\n",
              "      <td>1.0</td>\n",
              "      <td>32.092749</td>\n",
              "      <td>170.334658</td>\n",
              "      <td>168.447756</td>\n",
              "      <td>172.129674</td>\n",
              "      <td>173.692555</td>\n",
              "      <td>...</td>\n",
              "      <td>167.200577</td>\n",
              "      <td>171.605351</td>\n",
              "      <td>0.0</td>\n",
              "      <td>110.835548</td>\n",
              "      <td>107.551999</td>\n",
              "      <td>147.757388</td>\n",
              "      <td>167.200577</td>\n",
              "      <td>171.605351</td>\n",
              "      <td>1.0</td>\n",
              "      <td>3</td>\n",
              "    </tr>\n",
              "    <tr>\n",
              "      <th>68</th>\n",
              "      <td>1.0</td>\n",
              "      <td>1.0</td>\n",
              "      <td>1.0</td>\n",
              "      <td>1.0</td>\n",
              "      <td>1.0</td>\n",
              "      <td>32.092749</td>\n",
              "      <td>171.334658</td>\n",
              "      <td>171.447756</td>\n",
              "      <td>171.129674</td>\n",
              "      <td>176.692555</td>\n",
              "      <td>...</td>\n",
              "      <td>166.200577</td>\n",
              "      <td>174.605351</td>\n",
              "      <td>0.0</td>\n",
              "      <td>112.835548</td>\n",
              "      <td>105.551999</td>\n",
              "      <td>146.757388</td>\n",
              "      <td>166.200577</td>\n",
              "      <td>174.605351</td>\n",
              "      <td>1.0</td>\n",
              "      <td>3</td>\n",
              "    </tr>\n",
              "    <tr>\n",
              "      <th>69</th>\n",
              "      <td>1.0</td>\n",
              "      <td>1.0</td>\n",
              "      <td>1.0</td>\n",
              "      <td>1.0</td>\n",
              "      <td>1.0</td>\n",
              "      <td>33.092749</td>\n",
              "      <td>173.334658</td>\n",
              "      <td>169.447756</td>\n",
              "      <td>170.129674</td>\n",
              "      <td>175.692555</td>\n",
              "      <td>...</td>\n",
              "      <td>168.200577</td>\n",
              "      <td>170.605351</td>\n",
              "      <td>0.0</td>\n",
              "      <td>110.835548</td>\n",
              "      <td>106.551999</td>\n",
              "      <td>145.757388</td>\n",
              "      <td>168.200577</td>\n",
              "      <td>170.605351</td>\n",
              "      <td>1.0</td>\n",
              "      <td>3</td>\n",
              "    </tr>\n",
              "    <tr>\n",
              "      <th>70</th>\n",
              "      <td>1.0</td>\n",
              "      <td>1.0</td>\n",
              "      <td>1.0</td>\n",
              "      <td>1.0</td>\n",
              "      <td>1.0</td>\n",
              "      <td>32.092749</td>\n",
              "      <td>172.334658</td>\n",
              "      <td>168.447756</td>\n",
              "      <td>173.129674</td>\n",
              "      <td>177.692555</td>\n",
              "      <td>...</td>\n",
              "      <td>165.200577</td>\n",
              "      <td>171.605351</td>\n",
              "      <td>0.0</td>\n",
              "      <td>111.835548</td>\n",
              "      <td>105.551999</td>\n",
              "      <td>148.757388</td>\n",
              "      <td>165.200577</td>\n",
              "      <td>171.605351</td>\n",
              "      <td>1.0</td>\n",
              "      <td>3</td>\n",
              "    </tr>\n",
              "    <tr>\n",
              "      <th>71</th>\n",
              "      <td>1.0</td>\n",
              "      <td>1.0</td>\n",
              "      <td>1.0</td>\n",
              "      <td>1.0</td>\n",
              "      <td>1.0</td>\n",
              "      <td>30.092749</td>\n",
              "      <td>174.334658</td>\n",
              "      <td>166.447756</td>\n",
              "      <td>172.129674</td>\n",
              "      <td>174.692555</td>\n",
              "      <td>...</td>\n",
              "      <td>166.200577</td>\n",
              "      <td>172.605351</td>\n",
              "      <td>0.0</td>\n",
              "      <td>112.835548</td>\n",
              "      <td>108.551999</td>\n",
              "      <td>146.757388</td>\n",
              "      <td>166.200577</td>\n",
              "      <td>172.605351</td>\n",
              "      <td>1.0</td>\n",
              "      <td>3</td>\n",
              "    </tr>\n",
              "  </tbody>\n",
              "</table>\n",
              "<p>72 rows × 67 columns</p>\n",
              "</div>\n",
              "      <button class=\"colab-df-convert\" onclick=\"convertToInteractive('df-b9147678-14ee-4daf-80f3-ef4985568ace')\"\n",
              "              title=\"Convert this dataframe to an interactive table.\"\n",
              "              style=\"display:none;\">\n",
              "        \n",
              "  <svg xmlns=\"http://www.w3.org/2000/svg\" height=\"24px\"viewBox=\"0 0 24 24\"\n",
              "       width=\"24px\">\n",
              "    <path d=\"M0 0h24v24H0V0z\" fill=\"none\"/>\n",
              "    <path d=\"M18.56 5.44l.94 2.06.94-2.06 2.06-.94-2.06-.94-.94-2.06-.94 2.06-2.06.94zm-11 1L8.5 8.5l.94-2.06 2.06-.94-2.06-.94L8.5 2.5l-.94 2.06-2.06.94zm10 10l.94 2.06.94-2.06 2.06-.94-2.06-.94-.94-2.06-.94 2.06-2.06.94z\"/><path d=\"M17.41 7.96l-1.37-1.37c-.4-.4-.92-.59-1.43-.59-.52 0-1.04.2-1.43.59L10.3 9.45l-7.72 7.72c-.78.78-.78 2.05 0 2.83L4 21.41c.39.39.9.59 1.41.59.51 0 1.02-.2 1.41-.59l7.78-7.78 2.81-2.81c.8-.78.8-2.07 0-2.86zM5.41 20L4 18.59l7.72-7.72 1.47 1.35L5.41 20z\"/>\n",
              "  </svg>\n",
              "      </button>\n",
              "      \n",
              "  <style>\n",
              "    .colab-df-container {\n",
              "      display:flex;\n",
              "      flex-wrap:wrap;\n",
              "      gap: 12px;\n",
              "    }\n",
              "\n",
              "    .colab-df-convert {\n",
              "      background-color: #E8F0FE;\n",
              "      border: none;\n",
              "      border-radius: 50%;\n",
              "      cursor: pointer;\n",
              "      display: none;\n",
              "      fill: #1967D2;\n",
              "      height: 32px;\n",
              "      padding: 0 0 0 0;\n",
              "      width: 32px;\n",
              "    }\n",
              "\n",
              "    .colab-df-convert:hover {\n",
              "      background-color: #E2EBFA;\n",
              "      box-shadow: 0px 1px 2px rgba(60, 64, 67, 0.3), 0px 1px 3px 1px rgba(60, 64, 67, 0.15);\n",
              "      fill: #174EA6;\n",
              "    }\n",
              "\n",
              "    [theme=dark] .colab-df-convert {\n",
              "      background-color: #3B4455;\n",
              "      fill: #D2E3FC;\n",
              "    }\n",
              "\n",
              "    [theme=dark] .colab-df-convert:hover {\n",
              "      background-color: #434B5C;\n",
              "      box-shadow: 0px 1px 3px 1px rgba(0, 0, 0, 0.15);\n",
              "      filter: drop-shadow(0px 1px 2px rgba(0, 0, 0, 0.3));\n",
              "      fill: #FFFFFF;\n",
              "    }\n",
              "  </style>\n",
              "\n",
              "      <script>\n",
              "        const buttonEl =\n",
              "          document.querySelector('#df-b9147678-14ee-4daf-80f3-ef4985568ace button.colab-df-convert');\n",
              "        buttonEl.style.display =\n",
              "          google.colab.kernel.accessAllowed ? 'block' : 'none';\n",
              "\n",
              "        async function convertToInteractive(key) {\n",
              "          const element = document.querySelector('#df-b9147678-14ee-4daf-80f3-ef4985568ace');\n",
              "          const dataTable =\n",
              "            await google.colab.kernel.invokeFunction('convertToInteractive',\n",
              "                                                     [key], {});\n",
              "          if (!dataTable) return;\n",
              "\n",
              "          const docLinkHtml = 'Like what you see? Visit the ' +\n",
              "            '<a target=\"_blank\" href=https://colab.research.google.com/notebooks/data_table.ipynb>data table notebook</a>'\n",
              "            + ' to learn more about interactive tables.';\n",
              "          element.innerHTML = '';\n",
              "          dataTable['output_type'] = 'display_data';\n",
              "          await google.colab.output.renderOutput(dataTable, element);\n",
              "          const docLink = document.createElement('div');\n",
              "          docLink.innerHTML = docLinkHtml;\n",
              "          element.appendChild(docLink);\n",
              "        }\n",
              "      </script>\n",
              "    </div>\n",
              "  </div>\n",
              "  "
            ]
          },
          "metadata": {},
          "execution_count": 6
        }
      ],
      "source": [
        "df"
      ]
    },
    {
      "cell_type": "code",
      "execution_count": 7,
      "metadata": {
        "id": "E_ivN-ncgaEi"
      },
      "outputs": [],
      "source": [
        "df=df.dropna(how=\"any\")"
      ]
    },
    {
      "cell_type": "code",
      "execution_count": 8,
      "metadata": {
        "id": "ELXUYR8csgdP"
      },
      "outputs": [],
      "source": [
        "# determining inputs and target\n",
        "inputs = df.drop(columns = ['shot'])\n",
        "target = df[['shot']]"
      ]
    },
    {
      "cell_type": "code",
      "execution_count": 9,
      "metadata": {
        "id": "rNSHuh6msroe"
      },
      "outputs": [],
      "source": [
        "# split the dataset into train and test subsets\n",
        "from sklearn.model_selection import train_test_split\n",
        "X_train, X_test, y_train, y_test = train_test_split(inputs,target,train_size=0.67)"
      ]
    },
    {
      "cell_type": "markdown",
      "metadata": {
        "id": "wkzpS6A3SU54"
      },
      "source": [
        "**using logistic regression model**"
      ]
    },
    {
      "cell_type": "code",
      "execution_count": null,
      "metadata": {
        "id": "cRkIdvAdsvmB"
      },
      "outputs": [],
      "source": [
        "# import the model\n",
        "from sklearn.linear_model import LogisticRegression\n",
        "model = LogisticRegression(multi_class='ovr')"
      ]
    },
    {
      "cell_type": "code",
      "execution_count": null,
      "metadata": {
        "colab": {
          "base_uri": "https://localhost:8080/"
        },
        "id": "6tGo6V-Ls_Yv",
        "outputId": "ca923828-04c3-4675-a674-63b5e89bd0b6"
      },
      "outputs": [
        {
          "name": "stderr",
          "output_type": "stream",
          "text": [
            "C:\\ProgramData\\Anaconda3\\lib\\site-packages\\sklearn\\utils\\validation.py:63: DataConversionWarning: A column-vector y was passed when a 1d array was expected. Please change the shape of y to (n_samples, ), for example using ravel().\n",
            "  return f(*args, **kwargs)\n",
            "C:\\ProgramData\\Anaconda3\\lib\\site-packages\\sklearn\\linear_model\\_logistic.py:765: ConvergenceWarning: lbfgs failed to converge (status=2):\n",
            "ABNORMAL_TERMINATION_IN_LNSRCH.\n",
            "\n",
            "Increase the number of iterations (max_iter) or scale the data as shown in:\n",
            "    https://scikit-learn.org/stable/modules/preprocessing.html\n",
            "Please also refer to the documentation for alternative solver options:\n",
            "    https://scikit-learn.org/stable/modules/linear_model.html#logistic-regression\n",
            "  extra_warning_msg=_LOGISTIC_SOLVER_CONVERGENCE_MSG)\n",
            "C:\\ProgramData\\Anaconda3\\lib\\site-packages\\sklearn\\linear_model\\_logistic.py:765: ConvergenceWarning: lbfgs failed to converge (status=2):\n",
            "ABNORMAL_TERMINATION_IN_LNSRCH.\n",
            "\n",
            "Increase the number of iterations (max_iter) or scale the data as shown in:\n",
            "    https://scikit-learn.org/stable/modules/preprocessing.html\n",
            "Please also refer to the documentation for alternative solver options:\n",
            "    https://scikit-learn.org/stable/modules/linear_model.html#logistic-regression\n",
            "  extra_warning_msg=_LOGISTIC_SOLVER_CONVERGENCE_MSG)\n",
            "C:\\ProgramData\\Anaconda3\\lib\\site-packages\\sklearn\\linear_model\\_logistic.py:765: ConvergenceWarning: lbfgs failed to converge (status=2):\n",
            "ABNORMAL_TERMINATION_IN_LNSRCH.\n",
            "\n",
            "Increase the number of iterations (max_iter) or scale the data as shown in:\n",
            "    https://scikit-learn.org/stable/modules/preprocessing.html\n",
            "Please also refer to the documentation for alternative solver options:\n",
            "    https://scikit-learn.org/stable/modules/linear_model.html#logistic-regression\n",
            "  extra_warning_msg=_LOGISTIC_SOLVER_CONVERGENCE_MSG)\n",
            "C:\\ProgramData\\Anaconda3\\lib\\site-packages\\sklearn\\linear_model\\_logistic.py:765: ConvergenceWarning: lbfgs failed to converge (status=2):\n",
            "ABNORMAL_TERMINATION_IN_LNSRCH.\n",
            "\n",
            "Increase the number of iterations (max_iter) or scale the data as shown in:\n",
            "    https://scikit-learn.org/stable/modules/preprocessing.html\n",
            "Please also refer to the documentation for alternative solver options:\n",
            "    https://scikit-learn.org/stable/modules/linear_model.html#logistic-regression\n",
            "  extra_warning_msg=_LOGISTIC_SOLVER_CONVERGENCE_MSG)\n",
            "C:\\ProgramData\\Anaconda3\\lib\\site-packages\\sklearn\\linear_model\\_logistic.py:765: ConvergenceWarning: lbfgs failed to converge (status=2):\n",
            "ABNORMAL_TERMINATION_IN_LNSRCH.\n",
            "\n",
            "Increase the number of iterations (max_iter) or scale the data as shown in:\n",
            "    https://scikit-learn.org/stable/modules/preprocessing.html\n",
            "Please also refer to the documentation for alternative solver options:\n",
            "    https://scikit-learn.org/stable/modules/linear_model.html#logistic-regression\n",
            "  extra_warning_msg=_LOGISTIC_SOLVER_CONVERGENCE_MSG)\n",
            "C:\\ProgramData\\Anaconda3\\lib\\site-packages\\sklearn\\linear_model\\_logistic.py:765: ConvergenceWarning: lbfgs failed to converge (status=2):\n",
            "ABNORMAL_TERMINATION_IN_LNSRCH.\n",
            "\n",
            "Increase the number of iterations (max_iter) or scale the data as shown in:\n",
            "    https://scikit-learn.org/stable/modules/preprocessing.html\n",
            "Please also refer to the documentation for alternative solver options:\n",
            "    https://scikit-learn.org/stable/modules/linear_model.html#logistic-regression\n",
            "  extra_warning_msg=_LOGISTIC_SOLVER_CONVERGENCE_MSG)\n"
          ]
        },
        {
          "data": {
            "text/plain": [
              "LogisticRegression(multi_class='ovr')"
            ]
          },
          "execution_count": 12,
          "metadata": {},
          "output_type": "execute_result"
        }
      ],
      "source": [
        "# training the model\n",
        "model.fit(X_train,y_train)"
      ]
    },
    {
      "cell_type": "code",
      "execution_count": null,
      "metadata": {
        "colab": {
          "base_uri": "https://localhost:8080/"
        },
        "id": "7S7_gaCMtBGm",
        "outputId": "64d01155-fdfc-4ae8-d5ef-8cc6c9bea52a",
        "scrolled": true
      },
      "outputs": [
        {
          "data": {
            "text/plain": [
              "array([0, 0, 0, 0, 0, 0, 0, 0, 0, 0, 0, 0, 0, 0, 0, 0, 0, 0, 0, 0, 0, 0],\n",
              "      dtype=int8)"
            ]
          },
          "execution_count": 13,
          "metadata": {},
          "output_type": "execute_result"
        }
      ],
      "source": [
        "# predicting the outputs\n",
        "model.predict(X_test)"
      ]
    },
    {
      "cell_type": "code",
      "execution_count": null,
      "metadata": {
        "colab": {
          "base_uri": "https://localhost:8080/"
        },
        "id": "tDZUvl_7tDOb",
        "outputId": "a2c75d6f-7fba-455c-b5de-7d82c8f5f553"
      },
      "outputs": [
        {
          "data": {
            "text/plain": [
              "0.22727272727272727"
            ]
          },
          "execution_count": 14,
          "metadata": {},
          "output_type": "execute_result"
        }
      ],
      "source": [
        "# accuracy of the model\n",
        "model.score(X_test,y_test)"
      ]
    },
    {
      "cell_type": "markdown",
      "metadata": {
        "id": "qND8pq1NSvUg"
      },
      "source": [
        "**using svm model**"
      ]
    },
    {
      "cell_type": "code",
      "execution_count": null,
      "metadata": {
        "id": "6VdvY0pdSy0b"
      },
      "outputs": [],
      "source": [
        "# import the model\n",
        "from sklearn.svm import SVC\n",
        "model = SVC()"
      ]
    },
    {
      "cell_type": "code",
      "execution_count": null,
      "metadata": {
        "colab": {
          "base_uri": "https://localhost:8080/"
        },
        "id": "AQeVhlCWS22u",
        "outputId": "e01d94c1-65bb-4d35-9f7a-e029566f3b56"
      },
      "outputs": [
        {
          "name": "stderr",
          "output_type": "stream",
          "text": [
            "C:\\ProgramData\\Anaconda3\\lib\\site-packages\\sklearn\\utils\\validation.py:63: DataConversionWarning: A column-vector y was passed when a 1d array was expected. Please change the shape of y to (n_samples, ), for example using ravel().\n",
            "  return f(*args, **kwargs)\n"
          ]
        },
        {
          "data": {
            "text/plain": [
              "SVC()"
            ]
          },
          "execution_count": 16,
          "metadata": {},
          "output_type": "execute_result"
        }
      ],
      "source": [
        "# training the model\n",
        "model.fit(X_train,y_train)"
      ]
    },
    {
      "cell_type": "code",
      "execution_count": null,
      "metadata": {
        "colab": {
          "base_uri": "https://localhost:8080/"
        },
        "id": "w_WDE8yuS_8n",
        "outputId": "87a18994-5c9f-4867-d3b3-77230134b392"
      },
      "outputs": [
        {
          "data": {
            "text/plain": [
              "array([5, 5, 5, 5, 5, 5, 5, 5, 5, 5, 5, 5, 5, 5, 5, 5, 5, 5, 5, 5, 5, 5],\n",
              "      dtype=int8)"
            ]
          },
          "execution_count": 17,
          "metadata": {},
          "output_type": "execute_result"
        }
      ],
      "source": [
        "# predicting the outputs\n",
        "model.predict(X_test)"
      ]
    },
    {
      "cell_type": "code",
      "execution_count": null,
      "metadata": {
        "colab": {
          "base_uri": "https://localhost:8080/"
        },
        "id": "65TSM7-bTBom",
        "outputId": "d80af1ab-f5ce-437c-db0c-a42c5f0e9acf"
      },
      "outputs": [
        {
          "data": {
            "text/plain": [
              "0.09090909090909091"
            ]
          },
          "execution_count": 18,
          "metadata": {},
          "output_type": "execute_result"
        }
      ],
      "source": [
        "# accuracy of the model\n",
        "model.score(X_test,y_test)"
      ]
    },
    {
      "cell_type": "markdown",
      "source": [
        "**random forest model**"
      ],
      "metadata": {
        "id": "CpvQFO7q-8fu"
      }
    },
    {
      "cell_type": "code",
      "execution_count": null,
      "metadata": {
        "id": "zBu6kpV_dlTP"
      },
      "outputs": [],
      "source": [
        "# importing random forest classifier from assemble module\n",
        "from sklearn.ensemble import RandomForestClassifier\n",
        "\n",
        "# creating a RF classifier\n",
        "clf = RandomForestClassifier(n_estimators = 100) "
      ]
    },
    {
      "cell_type": "code",
      "execution_count": null,
      "metadata": {
        "id": "h69rRbhtdlTQ",
        "outputId": "7b6c8caf-d6db-4c7e-ec5b-c797a778aadd"
      },
      "outputs": [
        {
          "name": "stderr",
          "output_type": "stream",
          "text": [
            "C:\\ProgramData\\Anaconda3\\lib\\site-packages\\ipykernel_launcher.py:2: DataConversionWarning: A column-vector y was passed when a 1d array was expected. Please change the shape of y to (n_samples,), for example using ravel().\n",
            "  \n"
          ]
        },
        {
          "data": {
            "text/plain": [
              "RandomForestClassifier()"
            ]
          },
          "execution_count": 21,
          "metadata": {},
          "output_type": "execute_result"
        }
      ],
      "source": [
        "# training the model\n",
        "clf.fit(X_train,y_train)"
      ]
    },
    {
      "cell_type": "code",
      "execution_count": null,
      "metadata": {
        "id": "abXWmu5LdlTT",
        "outputId": "94b1f2b9-1bfc-4cd3-ef38-5196127f945e"
      },
      "outputs": [
        {
          "data": {
            "text/plain": [
              "array([5, 0, 1, 0, 1, 3, 1, 0, 4, 4, 5, 1, 2, 2, 3, 4, 1, 2, 2, 0, 0, 4],\n",
              "      dtype=int8)"
            ]
          },
          "execution_count": 22,
          "metadata": {},
          "output_type": "execute_result"
        }
      ],
      "source": [
        "# predicting the outputs\n",
        "clf.predict(X_test)"
      ]
    },
    {
      "cell_type": "code",
      "execution_count": null,
      "metadata": {
        "id": "JibtXCRddlTV",
        "outputId": "87931f4c-2d44-49ef-952d-63cd75cf2756"
      },
      "outputs": [
        {
          "data": {
            "text/plain": [
              "1.0"
            ]
          },
          "execution_count": 23,
          "metadata": {},
          "output_type": "execute_result"
        }
      ],
      "source": [
        "# accuracy of the model\n",
        "clf.score(X_test,y_test)"
      ]
    },
    {
      "cell_type": "code",
      "execution_count": null,
      "metadata": {
        "id": "BN4eWDtLdlTY",
        "outputId": "dab2adf0-b09c-4e67-98fc-d391ed1a54f4"
      },
      "outputs": [
        {
          "data": {
            "text/html": [
              "<div>\n",
              "<style scoped>\n",
              "    .dataframe tbody tr th:only-of-type {\n",
              "        vertical-align: middle;\n",
              "    }\n",
              "\n",
              "    .dataframe tbody tr th {\n",
              "        vertical-align: top;\n",
              "    }\n",
              "\n",
              "    .dataframe thead th {\n",
              "        text-align: right;\n",
              "    }\n",
              "</style>\n",
              "<table border=\"1\" class=\"dataframe\">\n",
              "  <thead>\n",
              "    <tr style=\"text-align: right;\">\n",
              "      <th></th>\n",
              "      <th>fv.st.hp</th>\n",
              "      <th>fv.bl.hp</th>\n",
              "      <th>fv.ds.hp</th>\n",
              "      <th>fv.im.hp</th>\n",
              "      <th>fv.ft.hp</th>\n",
              "      <th>fsv.st.ba</th>\n",
              "      <th>fsv.st.tha</th>\n",
              "      <th>fsv.st.bha</th>\n",
              "      <th>fsv.st.ff.ka</th>\n",
              "      <th>fsv.st.bf.ka</th>\n",
              "      <th>...</th>\n",
              "      <th>bsv.im.ff.ka</th>\n",
              "      <th>bsv.im.bf.ka</th>\n",
              "      <th>bsv.im.hip.a</th>\n",
              "      <th>bsv.ft.ba</th>\n",
              "      <th>bsv.ft.tha</th>\n",
              "      <th>bsv.ft.bha</th>\n",
              "      <th>bsv.ft.ff.ka</th>\n",
              "      <th>bsv.ft.bf.ka</th>\n",
              "      <th>bsv.ft.hip.a</th>\n",
              "      <th>player</th>\n",
              "    </tr>\n",
              "  </thead>\n",
              "  <tbody>\n",
              "    <tr>\n",
              "      <th>11</th>\n",
              "      <td>1.0</td>\n",
              "      <td>1.0</td>\n",
              "      <td>1.0</td>\n",
              "      <td>1.0</td>\n",
              "      <td>1.0</td>\n",
              "      <td>39.031893</td>\n",
              "      <td>173.403701</td>\n",
              "      <td>173.520183</td>\n",
              "      <td>171.785231</td>\n",
              "      <td>178.03023</td>\n",
              "      <td>...</td>\n",
              "      <td>151.689523</td>\n",
              "      <td>158.315253</td>\n",
              "      <td>172.014743</td>\n",
              "      <td>63.022666</td>\n",
              "      <td>348.509848</td>\n",
              "      <td>2.215897</td>\n",
              "      <td>142.151989</td>\n",
              "      <td>174.94586</td>\n",
              "      <td>172.22042</td>\n",
              "      <td>1.0</td>\n",
              "    </tr>\n",
              "  </tbody>\n",
              "</table>\n",
              "<p>1 rows × 66 columns</p>\n",
              "</div>"
            ],
            "text/plain": [
              "    fv.st.hp  fv.bl.hp  fv.ds.hp  fv.im.hp  fv.ft.hp  fsv.st.ba  fsv.st.tha  \\\n",
              "11       1.0       1.0       1.0       1.0       1.0  39.031893  173.403701   \n",
              "\n",
              "    fsv.st.bha  fsv.st.ff.ka  fsv.st.bf.ka  ...  bsv.im.ff.ka  bsv.im.bf.ka  \\\n",
              "11  173.520183    171.785231     178.03023  ...    151.689523    158.315253   \n",
              "\n",
              "    bsv.im.hip.a  bsv.ft.ba  bsv.ft.tha  bsv.ft.bha  bsv.ft.ff.ka  \\\n",
              "11    172.014743  63.022666  348.509848    2.215897    142.151989   \n",
              "\n",
              "    bsv.ft.bf.ka  bsv.ft.hip.a  player  \n",
              "11     174.94586     172.22042     1.0  \n",
              "\n",
              "[1 rows x 66 columns]"
            ]
          },
          "execution_count": 50,
          "metadata": {},
          "output_type": "execute_result"
        }
      ],
      "source": [
        "import numpy as np\n",
        "test_row=pd.DataFrame(X_test.iloc[0,:]).T\n",
        "test_row"
      ]
    },
    {
      "cell_type": "code",
      "execution_count": null,
      "metadata": {
        "id": "pYG0aHIkdlTb",
        "outputId": "ed129ae4-29e5-421e-8d8e-07cac7e4b4ab"
      },
      "outputs": [
        {
          "data": {
            "text/plain": [
              "array([5], dtype=int8)"
            ]
          },
          "execution_count": 49,
          "metadata": {},
          "output_type": "execute_result"
        }
      ],
      "source": [
        "clf.predict(test_row)"
      ]
    },
    {
      "cell_type": "markdown",
      "source": [
        "**gradient boost classification**"
      ],
      "metadata": {
        "id": "7R1__tKj_GaM"
      }
    },
    {
      "cell_type": "code",
      "source": [
        "# importing classifier model\n",
        "from sklearn.ensemble import GradientBoostingClassifier"
      ],
      "metadata": {
        "id": "LpwdL2Oy_LO4"
      },
      "execution_count": 10,
      "outputs": []
    },
    {
      "cell_type": "code",
      "source": [
        "# creating the classifier\n",
        "clf = GradientBoostingClassifier(n_estimators=100, learning_rate=1.0,\n",
        "    max_depth=1, random_state=0).fit(X_train, y_train)"
      ],
      "metadata": {
        "colab": {
          "base_uri": "https://localhost:8080/"
        },
        "id": "Pe3Gz-UmAQd6",
        "outputId": "a661afad-0ad9-4458-d58e-50915385d08e"
      },
      "execution_count": 11,
      "outputs": [
        {
          "output_type": "stream",
          "name": "stderr",
          "text": [
            "/usr/local/lib/python3.7/dist-packages/sklearn/ensemble/_gb.py:494: DataConversionWarning: A column-vector y was passed when a 1d array was expected. Please change the shape of y to (n_samples, ), for example using ravel().\n",
            "  y = column_or_1d(y, warn=True)\n"
          ]
        }
      ]
    },
    {
      "cell_type": "code",
      "source": [
        "# accuracy of the model\n",
        "clf.score(X_test, y_test)"
      ],
      "metadata": {
        "colab": {
          "base_uri": "https://localhost:8080/"
        },
        "id": "XYKHTUEHAeif",
        "outputId": "1265e1f0-2436-4770-826c-32a303f5da33"
      },
      "execution_count": 12,
      "outputs": [
        {
          "output_type": "execute_result",
          "data": {
            "text/plain": [
              "1.0"
            ]
          },
          "metadata": {},
          "execution_count": 12
        }
      ]
    }
  ],
  "metadata": {
    "colab": {
      "collapsed_sections": [],
      "name": "module_1.ipynb",
      "provenance": [],
      "include_colab_link": true
    },
    "kernelspec": {
      "display_name": "Python 3",
      "language": "python",
      "name": "python3"
    },
    "language_info": {
      "codemirror_mode": {
        "name": "ipython",
        "version": 3
      },
      "file_extension": ".py",
      "mimetype": "text/x-python",
      "name": "python",
      "nbconvert_exporter": "python",
      "pygments_lexer": "ipython3",
      "version": "3.7.6"
    }
  },
  "nbformat": 4,
  "nbformat_minor": 0
}