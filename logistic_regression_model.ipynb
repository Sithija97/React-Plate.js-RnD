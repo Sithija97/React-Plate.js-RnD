{
  "nbformat": 4,
  "nbformat_minor": 0,
  "metadata": {
    "colab": {
      "name": "logistic_regression_model.ipynb",
      "provenance": [],
      "collapsed_sections": [],
      "authorship_tag": "ABX9TyPHgkR1nNrAeawOClN5dvfb",
      "include_colab_link": true
    },
    "kernelspec": {
      "name": "python3",
      "display_name": "Python 3"
    },
    "language_info": {
      "name": "python"
    }
  },
  "cells": [
    {
      "cell_type": "markdown",
      "metadata": {
        "id": "view-in-github",
        "colab_type": "text"
      },
      "source": [
        "<a href=\"https://colab.research.google.com/github/Sithija97/Python-Projects/blob/main/logistic_regression_model.ipynb\" target=\"_parent\"><img src=\"https://colab.research.google.com/assets/colab-badge.svg\" alt=\"Open In Colab\"/></a>"
      ]
    },
    {
      "cell_type": "markdown",
      "metadata": {
        "id": "hVEG5D5TxFKW"
      },
      "source": [
        "# logistic_regression_model\n",
        "\n",
        "a model we try to experiment the cricket shot classification with shot errors"
      ]
    },
    {
      "cell_type": "code",
      "metadata": {
        "id": "Hjiu45aATtk1"
      },
      "source": [
        "import pandas as pd\n",
        "from matplotlib import pyplot as plt\n",
        "%matplotlib inline"
      ],
      "execution_count": null,
      "outputs": []
    },
    {
      "cell_type": "code",
      "metadata": {
        "id": "cW0_WONUUibP"
      },
      "source": [
        "# reading the csv file\n",
        "df = pd.read_csv(\"shot_details.csv\")\n",
        "df.head()"
      ],
      "execution_count": null,
      "outputs": []
    },
    {
      "cell_type": "code",
      "metadata": {
        "id": "0GLbasvqUvcx"
      },
      "source": [
        "# data exploration and visualization - can be used to seperate left/right handed || technically correct/wrong shots\n",
        "left = df[df.left==1]\n",
        "left.shape\n",
        "\n",
        "right = df[df.left==0]\n",
        "right.shape"
      ],
      "execution_count": null,
      "outputs": []
    },
    {
      "cell_type": "code",
      "metadata": {
        "id": "w-GE_CjkVRYa"
      },
      "source": [
        "# average numbers for all columns\n",
        "df.groupby('left').mean()"
      ],
      "execution_count": null,
      "outputs": []
    },
    {
      "cell_type": "code",
      "metadata": {
        "id": "vdBVfrk2Wj61"
      },
      "source": [
        "# determining independant variables\n",
        "# subdf = df[['','','','']]\n",
        "# subdf.head()"
      ],
      "execution_count": null,
      "outputs": []
    },
    {
      "cell_type": "code",
      "metadata": {
        "id": "M59dnV_NX4oW"
      },
      "source": [
        "# split the dataset into train and test subsets\n",
        "from sklearn.model_selection import train_test_split\n",
        "X_train, X_test, y_train, y_test = train_test_split(df[['','','','']],df.accuracy,train_size=0.3)"
      ],
      "execution_count": null,
      "outputs": []
    },
    {
      "cell_type": "code",
      "metadata": {
        "id": "M0sXmfn-kc8j"
      },
      "source": [
        "# import the model\n",
        "from sklearn.linear_model import LogisticRegression\n",
        "model = LogisticRegression()"
      ],
      "execution_count": null,
      "outputs": []
    },
    {
      "cell_type": "code",
      "metadata": {
        "id": "mRMO2YkjkguI"
      },
      "source": [
        "# training the model\n",
        "model.fit(X_train, y_train)"
      ],
      "execution_count": null,
      "outputs": []
    },
    {
      "cell_type": "code",
      "metadata": {
        "id": "Jhu_crnKkmHl"
      },
      "source": [
        "# predicting the outputs\n",
        "model.predict(X_test)"
      ],
      "execution_count": null,
      "outputs": []
    },
    {
      "cell_type": "code",
      "metadata": {
        "id": "nNouHk7FkpF7"
      },
      "source": [
        "# accuracy of the model\n",
        "model.score(X_test,y_test)"
      ],
      "execution_count": null,
      "outputs": []
    }
  ]
}